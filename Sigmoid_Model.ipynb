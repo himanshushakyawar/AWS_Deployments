{
  "nbformat": 4,
  "nbformat_minor": 0,
  "metadata": {
    "colab": {
      "name": "Sigmoid_Model.ipynb",
      "provenance": [],
      "collapsed_sections": [],
      "include_colab_link": true
    },
    "kernelspec": {
      "display_name": "Python 3",
      "language": "python",
      "name": "python3"
    },
    "language_info": {
      "codemirror_mode": {
        "name": "ipython",
        "version": 3
      },
      "file_extension": ".py",
      "mimetype": "text/x-python",
      "name": "python",
      "nbconvert_exporter": "python",
      "pygments_lexer": "ipython3",
      "version": "3.7.4"
    }
  },
  "cells": [
    {
      "cell_type": "markdown",
      "metadata": {
        "id": "view-in-github",
        "colab_type": "text"
      },
      "source": [
        "<a href=\"https://colab.research.google.com/github/himanshushakyawar/AWS_Deployments/blob/main/Sigmoid_Model.ipynb\" target=\"_parent\"><img src=\"https://colab.research.google.com/assets/colab-badge.svg\" alt=\"Open In Colab\"/></a>"
      ]
    },
    {
      "cell_type": "markdown",
      "metadata": {
        "id": "u27VqMAA-91h"
      },
      "source": [
        "# $S_{w, b}(x) = \\frac{1}{1 + e^{-(wx + b)}}$\n",
        "\n",
        "### Linear Operation & Activation"
      ]
    },
    {
      "cell_type": "code",
      "metadata": {
        "id": "Db6WgqlG8hyR"
      },
      "source": [
        "import numpy as np\n",
        "import pandas as pd\n",
        "import matplotlib.pyplot as plt"
      ],
      "execution_count": null,
      "outputs": []
    },
    {
      "cell_type": "code",
      "metadata": {
        "id": "p670tJjzd8o2"
      },
      "source": [
        "def Linear(x,w,b):\n",
        "  return w*x+b"
      ],
      "execution_count": null,
      "outputs": []
    },
    {
      "cell_type": "code",
      "metadata": {
        "id": "uyut5_MA8-Xe"
      },
      "source": [
        "def Sigmoid(x,w,b):\n",
        "  return 1/(1+np.exp(-(Linear(x,w,b))))"
      ],
      "execution_count": null,
      "outputs": []
    },
    {
      "cell_type": "code",
      "metadata": {
        "id": "LLu8VNVq9Igu",
        "colab": {
          "base_uri": "https://localhost:8080/"
        },
        "outputId": "a7175e52-2630-49c7-95de-f4733ab9d21b"
      },
      "source": [
        "Sigmoid(10,2,1)"
      ],
      "execution_count": null,
      "outputs": [
        {
          "output_type": "execute_result",
          "data": {
            "text/plain": [
              "0.9999999992417439"
            ]
          },
          "metadata": {},
          "execution_count": 4
        }
      ]
    },
    {
      "cell_type": "code",
      "metadata": {
        "id": "X_xgdNVb9LUV",
        "colab": {
          "base_uri": "https://localhost:8080/",
          "height": 299
        },
        "outputId": "6acfd184-dda5-4002-fb1b-2fcb050da9a7"
      },
      "source": [
        "#Test\n",
        "w = 1\n",
        "b = 1\n",
        "X = np.linspace(-10,10,100)\n",
        "Y = Sigmoid(X,w,b)\n",
        "plt.plot(X,Y)\n",
        "plt.title(\"Plot of Sigmoid \")\n",
        "plt.show()\n",
        "print(\"w =\",w,\"b=\",b)"
      ],
      "execution_count": null,
      "outputs": [
        {
          "output_type": "display_data",
          "data": {
            "image/png": "[encoded data removed]",
            "text/plain": [
              "<Figure size 432x288 with 1 Axes>"
            ]
          },
          "metadata": {
            "needs_background": "light"
          }
        },
        {
          "output_type": "stream",
          "name": "stdout",
          "text": [
            "w = 1 b= 1\n"
          ]
        }
      ]
    },
    {
      "cell_type": "code",
      "metadata": {
        "id": "_Ukh60C49dlc"
      },
      "source": [
        "'''\n",
        "In case of 3 input features:\n",
        "y = 1/(1+np.exp(-(w1*x1+w2*x2+w3*x3)))\n",
        "\n",
        "\n",
        "or we can represent in vectors:\n",
        "y = 1/(1+ np.exp(-(np.dot(w,x)+b)))\n",
        "''';"
      ],
      "execution_count": null,
      "outputs": []
    },
    {
      "cell_type": "code",
      "metadata": {
        "id": "0J2InC1M-AkY"
      },
      "source": [
        "w = 0.7\n",
        "b = 0.3\n",
        "X = np.array([1,2,3,4,5,6,7,8,9,10])\n",
        "Y = Sigmoid(X,w,b)\n",
        "Y"
      ],
      "execution_count": null,
      "outputs": []
    },
    {
      "cell_type": "code",
      "metadata": {
        "id": "fVrQgXrf-SJv"
      },
      "source": [
        "#Choose a threshold to convert Y to boolean"
      ],
      "execution_count": null,
      "outputs": []
    },
    {
      "cell_type": "markdown",
      "metadata": {
        "id": "ITXV-Uf1_YE1"
      },
      "source": [
        "# Intuition of Sigmoid"
      ]
    },
    {
      "cell_type": "code",
      "metadata": {
        "id": "bDMGQk7B_vQ-",
        "colab": {
          "base_uri": "https://localhost:8080/",
          "height": 281
        },
        "outputId": "707ec4ef-8f6b-4938-e96f-f66e51ab37b0"
      },
      "source": [
        "#Change the Slider of w and b to get intuition of Sigmoid\n",
        "w = 1.9 #@param {type:\"slider\", min:-5, max:5,step:0.1}\n",
        "b = -2.1    #@param {type: \"slider\", min: -5, max: 5,step:0.1}\n",
        "X = np.linspace(-10,10,100)\n",
        "Y = Sigmoid(X,w,b)\n",
        "plt.plot(X,Y)\n",
        "plt.title(\"Plot of Sigmoid at w = {},b = {}\".format(w,b));"
      ],
      "execution_count": null,
      "outputs": [
        {
          "output_type": "display_data",
          "data": {
            "image/png": "[encoded data removed]",
            "text/plain": [
              "<Figure size 432x288 with 1 Axes>"
            ]
          },
          "metadata": {
            "needs_background": "light"
          }
        }
      ]
    },
    {
      "cell_type": "code",
      "metadata": {
        "id": "zD4ugyd6RyXc"
      },
      "source": [
        ""
      ],
      "execution_count": null,
      "outputs": []
    }
  ]
}