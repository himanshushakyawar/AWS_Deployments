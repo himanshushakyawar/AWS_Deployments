{
  "nbformat": 4,
  "nbformat_minor": 0,
  "metadata": {
    "colab": {
      "name": "Linear Regression - Regularization Methods.ipynb",
      "provenance": [],
      "collapsed_sections": [],
      "include_colab_link": true
    },
    "kernelspec": {
      "name": "python3",
      "display_name": "Python 3"
    },
    "language_info": {
      "name": "python"
    }
  },
  "cells": [
    {
      "cell_type": "markdown",
      "metadata": {
        "id": "view-in-github",
        "colab_type": "text"
      },
      "source": [
        "<a href=\"https://colab.research.google.com/github/himanshushakyawar/AWS_Deployments/blob/main/Linear_Regression_Regularization_Methods.ipynb\" target=\"_parent\"><img src=\"https://colab.research.google.com/assets/colab-badge.svg\" alt=\"Open In Colab\"/></a>"
      ]
    },
    {
      "cell_type": "code",
      "execution_count": null,
      "metadata": {
        "colab": {
          "base_uri": "https://localhost:8080/"
        },
        "id": "w3HVxxLJy2Pz",
        "outputId": "fc21848a-be0c-4c08-c314-56e59a10b129"
      },
      "outputs": [
        {
          "output_type": "stream",
          "name": "stdout",
          "text": [
            "--2021-12-12 05:14:24--  https://www.dropbox.com/s/3yqg0fzr4lhlnnj/IPL-IMB381IPL2013.csv\n",
            "Resolving www.dropbox.com (www.dropbox.com)... 162.125.5.18, 2620:100:601d:18::a27d:512\n",
            "Connecting to www.dropbox.com (www.dropbox.com)|162.125.5.18|:443... connected.\n",
            "HTTP request sent, awaiting response... 301 Moved Permanently\n",
            "Location: /s/raw/3yqg0fzr4lhlnnj/IPL-IMB381IPL2013.csv [following]\n",
            "--2021-12-12 05:14:25--  https://www.dropbox.com/s/raw/3yqg0fzr4lhlnnj/IPL-IMB381IPL2013.csv\n",
            "Reusing existing connection to www.dropbox.com:443.\n",
            "HTTP request sent, awaiting response... 302 Found\n",
            "Location: https://ucc89c9c7a3a86d759b8f0cd7cb1.dl.dropboxusercontent.com/cd/0/inline/Bbr7nzyLN5o5xVX5bRYVK-fi8Orp4_Cz6IILQdmOJSh0rAMuw083GGsOX16_6ziA2YxOqWhjROdLARTCj6GN2lT9KmZZbuFceZET1flqqoGuoNDHbhSSJZn_OpyfiyvrUB-mAPJv5LHTh6h-SZUa_0a0/file# [following]\n",
            "--2021-12-12 05:14:25--  https://ucc89c9c7a3a86d759b8f0cd7cb1.dl.dropboxusercontent.com/cd/0/inline/Bbr7nzyLN5o5xVX5bRYVK-fi8Orp4_Cz6IILQdmOJSh0rAMuw083GGsOX16_6ziA2YxOqWhjROdLARTCj6GN2lT9KmZZbuFceZET1flqqoGuoNDHbhSSJZn_OpyfiyvrUB-mAPJv5LHTh6h-SZUa_0a0/file\n",
            "Resolving ucc89c9c7a3a86d759b8f0cd7cb1.dl.dropboxusercontent.com (ucc89c9c7a3a86d759b8f0cd7cb1.dl.dropboxusercontent.com)... 162.125.5.15, 2620:100:601f:15::a27d:90f\n",
            "Connecting to ucc89c9c7a3a86d759b8f0cd7cb1.dl.dropboxusercontent.com (ucc89c9c7a3a86d759b8f0cd7cb1.dl.dropboxusercontent.com)|162.125.5.15|:443... connected.\n",
            "HTTP request sent, awaiting response... 200 OK\n",
            "Length: 15661 (15K) [text/plain]\n",
            "Saving to: ‘IPL-IMB381IPL2013.csv.1’\n",
            "\n",
            "IPL-IMB381IPL2013.c 100%[===================>]  15.29K  --.-KB/s    in 0s      \n",
            "\n",
            "2021-12-12 05:14:25 (130 MB/s) - ‘IPL-IMB381IPL2013.csv.1’ saved [15661/15661]\n",
            "\n"
          ]
        }
      ],
      "source": [
        "!wget \"https://www.dropbox.com/s/3yqg0fzr4lhlnnj/IPL-IMB381IPL2013.csv\""
      ]
    },
    {
      "cell_type": "code",
      "source": [
        "import pandas as pd\n",
        "df = pd.read_csv(\"IPL-IMB381IPL2013.csv\")\n",
        "df.info()"
      ],
      "metadata": {
        "colab": {
          "base_uri": "https://localhost:8080/"
        },
        "id": "8BtolvRBzF28",
        "outputId": "9fe83b1c-3481-43a7-dee9-b2a406926d58"
      },
      "execution_count": null,
      "outputs": [
        {
          "output_type": "stream",
          "name": "stdout",
          "text": [
            "<class 'pandas.core.frame.DataFrame'>\n",
            "RangeIndex: 130 entries, 0 to 129\n",
            "Data columns (total 26 columns):\n",
            " #   Column         Non-Null Count  Dtype  \n",
            "---  ------         --------------  -----  \n",
            " 0   Sl.NO.         130 non-null    int64  \n",
            " 1   PLAYER NAME    130 non-null    object \n",
            " 2   AGE            130 non-null    int64  \n",
            " 3   COUNTRY        130 non-null    object \n",
            " 4   TEAM           130 non-null    object \n",
            " 5   PLAYING ROLE   130 non-null    object \n",
            " 6   T-RUNS         130 non-null    int64  \n",
            " 7   T-WKTS         130 non-null    int64  \n",
            " 8   ODI-RUNS-S     130 non-null    int64  \n",
            " 9   ODI-SR-B       130 non-null    float64\n",
            " 10  ODI-WKTS       130 non-null    int64  \n",
            " 11  ODI-SR-BL      130 non-null    float64\n",
            " 12  CAPTAINCY EXP  130 non-null    int64  \n",
            " 13  RUNS-S         130 non-null    int64  \n",
            " 14  HS             130 non-null    int64  \n",
            " 15  AVE            130 non-null    float64\n",
            " 16  SR-B           130 non-null    float64\n",
            " 17  SIXERS         130 non-null    int64  \n",
            " 18  RUNS-C         130 non-null    int64  \n",
            " 19  WKTS           130 non-null    int64  \n",
            " 20  AVE-BL         130 non-null    float64\n",
            " 21  ECON           130 non-null    float64\n",
            " 22  SR-BL          130 non-null    float64\n",
            " 23  AUCTION YEAR   130 non-null    int64  \n",
            " 24  BASE PRICE     130 non-null    int64  \n",
            " 25  SOLD PRICE     130 non-null    int64  \n",
            "dtypes: float64(7), int64(15), object(4)\n",
            "memory usage: 26.5+ KB\n"
          ]
        }
      ]
    },
    {
      "cell_type": "code",
      "source": [
        "features = ['AGE', 'COUNTRY', 'PLAYING ROLE', \n",
        "'T-RUNS', 'T-WKTS', 'ODI-RUNS-S', 'ODI-SR-B', \n",
        "'ODI-WKTS', 'ODI-SR-BL', 'CAPTAINCY EXP', 'RUNS-S', \n",
        "'HS', 'AVE', 'SR-B', 'SIXERS', 'RUNS-C', 'WKTS', \n",
        "'AVE-BL', 'ECON', 'SR-BL'] "
      ],
      "metadata": {
        "id": "VBRDT4LPzQtT"
      },
      "execution_count": null,
      "outputs": []
    },
    {
      "cell_type": "code",
      "source": [
        "categorical_features = ['AGE', 'COUNTRY', 'PLAYING ROLE', 'CAPTAINCY EXP']"
      ],
      "metadata": {
        "id": "9JHav3M7zZ9Z"
      },
      "execution_count": null,
      "outputs": []
    },
    {
      "cell_type": "code",
      "source": [
        "ipl_auction_encoded_df = pd.get_dummies(  df[features],columns = categorical_features, drop_first = True )  # Drop_frist = True to avoid Multicollinearity"
      ],
      "metadata": {
        "id": "8KzjX1y6zgrS"
      },
      "execution_count": null,
      "outputs": []
    },
    {
      "cell_type": "code",
      "source": [
        "ipl_auction_encoded_df.head()"
      ],
      "metadata": {
        "colab": {
          "base_uri": "https://localhost:8080/",
          "height": 261
        },
        "id": "-oDT14Nvzi77",
        "outputId": "20feec00-c74a-4dc3-9465-9ccb4c485190"
      },
      "execution_count": null,
      "outputs": [
        {
          "output_type": "execute_result",
          "data": {
            "text/html": [
              "<div>\n",
              "<style scoped>\n",
              "    .dataframe tbody tr th:only-of-type {\n",
              "        vertical-align: middle;\n",
              "    }\n",
              "\n",
              "    .dataframe tbody tr th {\n",
              "        vertical-align: top;\n",
              "    }\n",
              "\n",
              "    .dataframe thead th {\n",
              "        text-align: right;\n",
              "    }\n",
              "</style>\n",
              "<table border=\"1\" class=\"dataframe\">\n",
              "  <thead>\n",
              "    <tr style=\"text-align: right;\">\n",
              "      <th></th>\n",
              "      <th>T-RUNS</th>\n",
              "      <th>T-WKTS</th>\n",
              "      <th>ODI-RUNS-S</th>\n",
              "      <th>ODI-SR-B</th>\n",
              "      <th>ODI-WKTS</th>\n",
              "      <th>ODI-SR-BL</th>\n",
              "      <th>RUNS-S</th>\n",
              "      <th>HS</th>\n",
              "      <th>AVE</th>\n",
              "      <th>SR-B</th>\n",
              "      <th>SIXERS</th>\n",
              "      <th>RUNS-C</th>\n",
              "      <th>WKTS</th>\n",
              "      <th>AVE-BL</th>\n",
              "      <th>ECON</th>\n",
              "      <th>SR-BL</th>\n",
              "      <th>AGE_2</th>\n",
              "      <th>AGE_3</th>\n",
              "      <th>COUNTRY_BAN</th>\n",
              "      <th>COUNTRY_ENG</th>\n",
              "      <th>COUNTRY_IND</th>\n",
              "      <th>COUNTRY_NZ</th>\n",
              "      <th>COUNTRY_PAK</th>\n",
              "      <th>COUNTRY_SA</th>\n",
              "      <th>COUNTRY_SL</th>\n",
              "      <th>COUNTRY_WI</th>\n",
              "      <th>COUNTRY_ZIM</th>\n",
              "      <th>PLAYING ROLE_Batsman</th>\n",
              "      <th>PLAYING ROLE_Bowler</th>\n",
              "      <th>PLAYING ROLE_W. Keeper</th>\n",
              "      <th>CAPTAINCY EXP_1</th>\n",
              "    </tr>\n",
              "  </thead>\n",
              "  <tbody>\n",
              "    <tr>\n",
              "      <th>0</th>\n",
              "      <td>0</td>\n",
              "      <td>0</td>\n",
              "      <td>0</td>\n",
              "      <td>0.00</td>\n",
              "      <td>0</td>\n",
              "      <td>0.0</td>\n",
              "      <td>0</td>\n",
              "      <td>0</td>\n",
              "      <td>0.00</td>\n",
              "      <td>0.00</td>\n",
              "      <td>0</td>\n",
              "      <td>307</td>\n",
              "      <td>15</td>\n",
              "      <td>20.47</td>\n",
              "      <td>8.90</td>\n",
              "      <td>13.93</td>\n",
              "      <td>1</td>\n",
              "      <td>0</td>\n",
              "      <td>0</td>\n",
              "      <td>0</td>\n",
              "      <td>0</td>\n",
              "      <td>0</td>\n",
              "      <td>0</td>\n",
              "      <td>1</td>\n",
              "      <td>0</td>\n",
              "      <td>0</td>\n",
              "      <td>0</td>\n",
              "      <td>0</td>\n",
              "      <td>0</td>\n",
              "      <td>0</td>\n",
              "      <td>0</td>\n",
              "    </tr>\n",
              "    <tr>\n",
              "      <th>1</th>\n",
              "      <td>214</td>\n",
              "      <td>18</td>\n",
              "      <td>657</td>\n",
              "      <td>71.41</td>\n",
              "      <td>185</td>\n",
              "      <td>37.6</td>\n",
              "      <td>0</td>\n",
              "      <td>0</td>\n",
              "      <td>0.00</td>\n",
              "      <td>0.00</td>\n",
              "      <td>0</td>\n",
              "      <td>29</td>\n",
              "      <td>0</td>\n",
              "      <td>0.00</td>\n",
              "      <td>14.50</td>\n",
              "      <td>0.00</td>\n",
              "      <td>1</td>\n",
              "      <td>0</td>\n",
              "      <td>1</td>\n",
              "      <td>0</td>\n",
              "      <td>0</td>\n",
              "      <td>0</td>\n",
              "      <td>0</td>\n",
              "      <td>0</td>\n",
              "      <td>0</td>\n",
              "      <td>0</td>\n",
              "      <td>0</td>\n",
              "      <td>0</td>\n",
              "      <td>1</td>\n",
              "      <td>0</td>\n",
              "      <td>0</td>\n",
              "    </tr>\n",
              "    <tr>\n",
              "      <th>2</th>\n",
              "      <td>571</td>\n",
              "      <td>58</td>\n",
              "      <td>1269</td>\n",
              "      <td>80.62</td>\n",
              "      <td>288</td>\n",
              "      <td>32.9</td>\n",
              "      <td>167</td>\n",
              "      <td>39</td>\n",
              "      <td>18.56</td>\n",
              "      <td>121.01</td>\n",
              "      <td>5</td>\n",
              "      <td>1059</td>\n",
              "      <td>29</td>\n",
              "      <td>36.52</td>\n",
              "      <td>8.81</td>\n",
              "      <td>24.90</td>\n",
              "      <td>1</td>\n",
              "      <td>0</td>\n",
              "      <td>0</td>\n",
              "      <td>0</td>\n",
              "      <td>1</td>\n",
              "      <td>0</td>\n",
              "      <td>0</td>\n",
              "      <td>0</td>\n",
              "      <td>0</td>\n",
              "      <td>0</td>\n",
              "      <td>0</td>\n",
              "      <td>0</td>\n",
              "      <td>1</td>\n",
              "      <td>0</td>\n",
              "      <td>0</td>\n",
              "    </tr>\n",
              "    <tr>\n",
              "      <th>3</th>\n",
              "      <td>284</td>\n",
              "      <td>31</td>\n",
              "      <td>241</td>\n",
              "      <td>84.56</td>\n",
              "      <td>51</td>\n",
              "      <td>36.8</td>\n",
              "      <td>58</td>\n",
              "      <td>11</td>\n",
              "      <td>5.80</td>\n",
              "      <td>76.32</td>\n",
              "      <td>0</td>\n",
              "      <td>1125</td>\n",
              "      <td>49</td>\n",
              "      <td>22.96</td>\n",
              "      <td>6.23</td>\n",
              "      <td>22.14</td>\n",
              "      <td>0</td>\n",
              "      <td>0</td>\n",
              "      <td>0</td>\n",
              "      <td>0</td>\n",
              "      <td>1</td>\n",
              "      <td>0</td>\n",
              "      <td>0</td>\n",
              "      <td>0</td>\n",
              "      <td>0</td>\n",
              "      <td>0</td>\n",
              "      <td>0</td>\n",
              "      <td>0</td>\n",
              "      <td>1</td>\n",
              "      <td>0</td>\n",
              "      <td>0</td>\n",
              "    </tr>\n",
              "    <tr>\n",
              "      <th>4</th>\n",
              "      <td>63</td>\n",
              "      <td>0</td>\n",
              "      <td>79</td>\n",
              "      <td>45.93</td>\n",
              "      <td>0</td>\n",
              "      <td>0.0</td>\n",
              "      <td>1317</td>\n",
              "      <td>71</td>\n",
              "      <td>32.93</td>\n",
              "      <td>120.71</td>\n",
              "      <td>28</td>\n",
              "      <td>0</td>\n",
              "      <td>0</td>\n",
              "      <td>0.00</td>\n",
              "      <td>0.00</td>\n",
              "      <td>0.00</td>\n",
              "      <td>1</td>\n",
              "      <td>0</td>\n",
              "      <td>0</td>\n",
              "      <td>0</td>\n",
              "      <td>1</td>\n",
              "      <td>0</td>\n",
              "      <td>0</td>\n",
              "      <td>0</td>\n",
              "      <td>0</td>\n",
              "      <td>0</td>\n",
              "      <td>0</td>\n",
              "      <td>1</td>\n",
              "      <td>0</td>\n",
              "      <td>0</td>\n",
              "      <td>0</td>\n",
              "    </tr>\n",
              "  </tbody>\n",
              "</table>\n",
              "</div>"
            ],
            "text/plain": [
              "   T-RUNS  T-WKTS  ...  PLAYING ROLE_W. Keeper  CAPTAINCY EXP_1\n",
              "0       0       0  ...                       0                0\n",
              "1     214      18  ...                       0                0\n",
              "2     571      58  ...                       0                0\n",
              "3     284      31  ...                       0                0\n",
              "4      63       0  ...                       0                0\n",
              "\n",
              "[5 rows x 31 columns]"
            ]
          },
          "metadata": {},
          "execution_count": 13
        }
      ]
    },
    {
      "cell_type": "code",
      "source": [
        "features = ipl_auction_encoded_df.columns"
      ],
      "metadata": {
        "id": "5c5jb3sczkij"
      },
      "execution_count": null,
      "outputs": []
    },
    {
      "cell_type": "code",
      "source": [
        "X = ipl_auction_encoded_df\n",
        "y = df[\"SOLD PRICE\"]"
      ],
      "metadata": {
        "id": "q_OPHrB_zppK"
      },
      "execution_count": null,
      "outputs": []
    },
    {
      "cell_type": "code",
      "source": [
        "from sklearn.preprocessing import StandardScaler\n",
        "ss = StandardScaler()\n",
        "X_scaled = ss.fit_transform(X)\n",
        "y = (y - y.mean())/y.std()"
      ],
      "metadata": {
        "id": "LshMX7wpEJAZ"
      },
      "execution_count": null,
      "outputs": []
    },
    {
      "cell_type": "code",
      "source": [
        "from sklearn.model_selection import train_test_split\n",
        "train_X, test_X, train_y, test_y = train_test_split( X_scaled , y,train_size = 0.8, random_state = 42 ) "
      ],
      "metadata": {
        "id": "iuta-nmUEFpZ"
      },
      "execution_count": null,
      "outputs": []
    },
    {
      "cell_type": "code",
      "source": [
        "from sklearn.linear_model import LinearRegression\n",
        "lr = LinearRegression()"
      ],
      "metadata": {
        "id": "0F-0-lSVEiZE"
      },
      "execution_count": null,
      "outputs": []
    },
    {
      "cell_type": "code",
      "source": [
        "lr.fit(train_X,train_y)"
      ],
      "metadata": {
        "colab": {
          "base_uri": "https://localhost:8080/"
        },
        "id": "qA-2jDmeErHP",
        "outputId": "09f2ac7b-802a-4c9b-97a2-875c52bf96f6"
      },
      "execution_count": null,
      "outputs": [
        {
          "output_type": "execute_result",
          "data": {
            "text/plain": [
              "LinearRegression()"
            ]
          },
          "metadata": {},
          "execution_count": 33
        }
      ]
    },
    {
      "cell_type": "code",
      "source": [
        "from sklearn.metrics import mean_squared_error"
      ],
      "metadata": {
        "id": "518dc1CaEujm"
      },
      "execution_count": null,
      "outputs": []
    },
    {
      "cell_type": "code",
      "source": [
        "y_pred = lr.predict(test_X)\n",
        "y_pred_train = lr.predict(train_X)"
      ],
      "metadata": {
        "id": "z7spA9HcE6Gi"
      },
      "execution_count": null,
      "outputs": []
    },
    {
      "cell_type": "code",
      "source": [
        "import numpy as np"
      ],
      "metadata": {
        "id": "IJqSSyNpFD9m"
      },
      "execution_count": null,
      "outputs": []
    },
    {
      "cell_type": "code",
      "source": [
        "test_rmse = np.sqrt(mean_squared_error(y_pred,test_y))\n",
        "train_rmse = np.sqrt(mean_squared_error(y_pred_train,train_y))\n",
        "train_rmse , test_rmse"
      ],
      "metadata": {
        "colab": {
          "base_uri": "https://localhost:8080/"
        },
        "id": "cwcWVEzcE33Q",
        "outputId": "d96e5b37-5a32-49ec-d644-93fc5c1090f9"
      },
      "execution_count": null,
      "outputs": [
        {
          "output_type": "execute_result",
          "data": {
            "text/plain": [
              "(0.6793950429977006, 0.7485680800731183)"
            ]
          },
          "metadata": {},
          "execution_count": 40
        }
      ]
    },
    {
      "cell_type": "markdown",
      "source": [
        "# Ridge Regression - L2"
      ],
      "metadata": {
        "id": "sj6GSkKjGOlR"
      }
    },
    {
      "cell_type": "code",
      "source": [
        "from sklearn.linear_model import Ridge\n",
        "ridge = Ridge(alpha = 1)"
      ],
      "metadata": {
        "id": "sckFvnzOE-Zm"
      },
      "execution_count": null,
      "outputs": []
    },
    {
      "cell_type": "code",
      "source": [
        "ridge.fit(train_X,train_y)"
      ],
      "metadata": {
        "colab": {
          "base_uri": "https://localhost:8080/"
        },
        "id": "juNIC7BXGuL8",
        "outputId": "291d8b4a-996b-4103-a408-6d800ab93e18"
      },
      "execution_count": null,
      "outputs": [
        {
          "output_type": "execute_result",
          "data": {
            "text/plain": [
              "Ridge(alpha=1)"
            ]
          },
          "metadata": {},
          "execution_count": 42
        }
      ]
    },
    {
      "cell_type": "code",
      "source": [
        "def get_train_test_rmse(model):\n",
        "  y_pred_train = model.predict(train_X)\n",
        "  rmse_train = np.sqrt(mean_squared_error(train_y, y_pred_train))\n",
        "\n",
        "  y_pred_test = model.predict(test_X)\n",
        "  rmse_test =  np.sqrt(mean_squared_error(test_y, y_pred_test))\n",
        "\n",
        "  print(f\"train: {rmse_train}, and test: {rmse_test}\")"
      ],
      "metadata": {
        "id": "sc6-GfxLGx2m"
      },
      "execution_count": null,
      "outputs": []
    },
    {
      "cell_type": "code",
      "source": [
        "get_train_test_rmse(ridge)"
      ],
      "metadata": {
        "colab": {
          "base_uri": "https://localhost:8080/"
        },
        "id": "c8seTn-ZHXWk",
        "outputId": "a77553ea-5da0-48d8-99ee-0bbac55dde28"
      },
      "execution_count": null,
      "outputs": [
        {
          "output_type": "stream",
          "name": "stdout",
          "text": [
            "train: 0.6804918665100158, and test: 0.7237923448623433\n"
          ]
        }
      ]
    },
    {
      "cell_type": "code",
      "source": [
        "from sklearn.linear_model import Ridge\n",
        "ridge = Ridge(alpha = 2)\n",
        "ridge.fit(train_X,train_y)\n",
        "get_train_test_rmse(ridge)"
      ],
      "metadata": {
        "colab": {
          "base_uri": "https://localhost:8080/"
        },
        "id": "U2weWNJ-Hd64",
        "outputId": "0dfe2082-21c1-4796-eb5e-2064555ccdd6"
      },
      "execution_count": null,
      "outputs": [
        {
          "output_type": "stream",
          "name": "stdout",
          "text": [
            "train: 0.6824945716553967, and test: 0.7057094104617131\n"
          ]
        }
      ]
    },
    {
      "cell_type": "markdown",
      "source": [
        "# Lasso Regression (L1)"
      ],
      "metadata": {
        "id": "5lHNKTs_HyXY"
      }
    },
    {
      "cell_type": "code",
      "source": [
        "from sklearn.linear_model import Lasso\n",
        "lasso = Lasso(alpha = 0.01)\n",
        "lasso.fit(train_X,train_y)\n",
        "get_train_test_rmse(lasso)"
      ],
      "metadata": {
        "colab": {
          "base_uri": "https://localhost:8080/"
        },
        "id": "nernSFGXHqc8",
        "outputId": "9bcd9a1b-d67f-42dd-bca1-4045f160551d"
      },
      "execution_count": null,
      "outputs": [
        {
          "output_type": "stream",
          "name": "stdout",
          "text": [
            "train: 0.688373505629288, and test: 0.6982872223862223\n"
          ]
        }
      ]
    },
    {
      "cell_type": "markdown",
      "source": [
        "# Elasticnet Regression"
      ],
      "metadata": {
        "id": "aYgoEL79Igup"
      }
    },
    {
      "cell_type": "code",
      "source": [
        "from sklearn.linear_model import ElasticNet"
      ],
      "metadata": {
        "id": "ahDrzPyaIDEJ"
      },
      "execution_count": null,
      "outputs": []
    },
    {
      "cell_type": "code",
      "source": [
        "enet = ElasticNet(alpha=1, l1_ratio=0.001)\n",
        "enet.fit(train_X,train_y)\n",
        "get_train_test_rmse(enet)"
      ],
      "metadata": {
        "colab": {
          "base_uri": "https://localhost:8080/"
        },
        "id": "AerSoFcAIrVe",
        "outputId": "cc5ee838-4a9a-4af4-99d5-1fed628f2ec5"
      },
      "execution_count": null,
      "outputs": [
        {
          "output_type": "stream",
          "name": "stdout",
          "text": [
            "train: 0.7884952475587629, and test: 0.664836912870875\n"
          ]
        }
      ]
    },
    {
      "cell_type": "code",
      "source": [
        ""
      ],
      "metadata": {
        "id": "pW-76nu1IzlY"
      },
      "execution_count": null,
      "outputs": []
    }
  ]
}