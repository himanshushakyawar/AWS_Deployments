{
  "nbformat": 4,
  "nbformat_minor": 0,
  "metadata": {
    "colab": {
      "name": "Batch_42_Demo_Statistical_Foundations_I.ipynb",
      "provenance": [],
      "collapsed_sections": [],
      "include_colab_link": true
    },
    "kernelspec": {
      "name": "python3",
      "display_name": "Python 3"
    }
  },
  "cells": [
    {
      "cell_type": "markdown",
      "metadata": {
        "id": "view-in-github",
        "colab_type": "text"
      },
      "source": [
        "<a href=\"https://colab.research.google.com/github/himanshushakyawar/AWS_Deployments/blob/main/Batch_42_Demo_Statistical_Foundations_I.ipynb\" target=\"_parent\"><img src=\"https://colab.research.google.com/assets/colab-badge.svg\" alt=\"Open In Colab\"/></a>"
      ]
    },
    {
      "cell_type": "markdown",
      "metadata": {
        "id": "LGcCg_Ri55C9"
      },
      "source": [
        "#**Demo: Statistical Foundations I**"
      ]
    },
    {
      "cell_type": "markdown",
      "metadata": {
        "id": "RMjg2CqZn2vk"
      },
      "source": [
        "## **Part 1: Why Statistical Analysis is required?**"
      ]
    },
    {
      "cell_type": "markdown",
      "metadata": {
        "id": "b8ZtvI5BlFnT"
      },
      "source": [
        "###**Importing Required Libraries**"
      ]
    },
    {
      "cell_type": "code",
      "metadata": {
        "id": "Y5uo_pWwlFnV"
      },
      "source": [
        "#Importing Required Libraries\n",
        "\n",
        "import pandas as pd\n",
        "import numpy as np"
      ],
      "execution_count": null,
      "outputs": []
    },
    {
      "cell_type": "code",
      "metadata": {
        "colab": {
          "base_uri": "https://localhost:8080/"
        },
        "id": "mEuaMWWgnqUj",
        "outputId": "53ca587e-dc5c-459b-b7d1-86969ac740de"
      },
      "source": [
        "!wget https://www.dropbox.com/s/755hnawo000aeaw/Placement_Data_Full_Class.csv"
      ],
      "execution_count": null,
      "outputs": [
        {
          "output_type": "stream",
          "name": "stdout",
          "text": [
            "--2021-11-27 15:48:59--  https://www.dropbox.com/s/755hnawo000aeaw/Placement_Data_Full_Class.csv\n",
            "Resolving www.dropbox.com (www.dropbox.com)... 162.125.4.18, 2620:100:601c:18::a27d:612\n",
            "Connecting to www.dropbox.com (www.dropbox.com)|162.125.4.18|:443... connected.\n",
            "HTTP request sent, awaiting response... 301 Moved Permanently\n",
            "Location: /s/raw/755hnawo000aeaw/Placement_Data_Full_Class.csv [following]\n",
            "--2021-11-27 15:48:59--  https://www.dropbox.com/s/raw/755hnawo000aeaw/Placement_Data_Full_Class.csv\n",
            "Reusing existing connection to www.dropbox.com:443.\n",
            "HTTP request sent, awaiting response... 302 Found\n",
            "Location: https://uc93ba9859ebac867dfccdd2cfdf.dl.dropboxusercontent.com/cd/0/inline/BazFAfGHHwUq7n3w5r5DUcarBxkIissPR967HIRDCOV4D3NfFU2N6H62s3aO7CkUFFagGbVQyG0NdJmSHRKqRqEG6C1Iwe_6As8N61PerRXw0qzg84VcVlW7QgcxwMBNGMQby926hkKevPg7-dR1RNfZ/file# [following]\n",
            "--2021-11-27 15:48:59--  https://uc93ba9859ebac867dfccdd2cfdf.dl.dropboxusercontent.com/cd/0/inline/BazFAfGHHwUq7n3w5r5DUcarBxkIissPR967HIRDCOV4D3NfFU2N6H62s3aO7CkUFFagGbVQyG0NdJmSHRKqRqEG6C1Iwe_6As8N61PerRXw0qzg84VcVlW7QgcxwMBNGMQby926hkKevPg7-dR1RNfZ/file\n",
            "Resolving uc93ba9859ebac867dfccdd2cfdf.dl.dropboxusercontent.com (uc93ba9859ebac867dfccdd2cfdf.dl.dropboxusercontent.com)... 162.125.4.15, 2620:100:6019:15::a27d:40f\n",
            "Connecting to uc93ba9859ebac867dfccdd2cfdf.dl.dropboxusercontent.com (uc93ba9859ebac867dfccdd2cfdf.dl.dropboxusercontent.com)|162.125.4.15|:443... connected.\n",
            "HTTP request sent, awaiting response... 200 OK\n",
            "Length: 19712 (19K) [text/plain]\n",
            "Saving to: ‘Placement_Data_Full_Class.csv’\n",
            "\n",
            "Placement_Data_Full 100%[===================>]  19.25K  --.-KB/s    in 0.006s  \n",
            "\n",
            "2021-11-27 15:48:59 (3.15 MB/s) - ‘Placement_Data_Full_Class.csv’ saved [19712/19712]\n",
            "\n"
          ]
        }
      ]
    },
    {
      "cell_type": "markdown",
      "metadata": {
        "id": "w_hrLPW0lmB-"
      },
      "source": [
        "### **Understanding the importance of Statistical Analysis**"
      ]
    },
    {
      "cell_type": "code",
      "metadata": {
        "colab": {
          "base_uri": "https://localhost:8080/",
          "height": 206
        },
        "id": "W7QvLo8XoTjg",
        "outputId": "6911815e-78da-4fbd-c5c5-493909cd2c51"
      },
      "source": [
        "campus = pd.read_csv('Placement_Data_Full_Class.csv')\n",
        "campus.head()"
      ],
      "execution_count": null,
      "outputs": [
        {
          "output_type": "execute_result",
          "data": {
            "text/html": [
              "<div>\n",
              "<style scoped>\n",
              "    .dataframe tbody tr th:only-of-type {\n",
              "        vertical-align: middle;\n",
              "    }\n",
              "\n",
              "    .dataframe tbody tr th {\n",
              "        vertical-align: top;\n",
              "    }\n",
              "\n",
              "    .dataframe thead th {\n",
              "        text-align: right;\n",
              "    }\n",
              "</style>\n",
              "<table border=\"1\" class=\"dataframe\">\n",
              "  <thead>\n",
              "    <tr style=\"text-align: right;\">\n",
              "      <th></th>\n",
              "      <th>sl_no</th>\n",
              "      <th>gender</th>\n",
              "      <th>ssc_p</th>\n",
              "      <th>ssc_b</th>\n",
              "      <th>hsc_p</th>\n",
              "      <th>hsc_b</th>\n",
              "      <th>hsc_s</th>\n",
              "      <th>degree_p</th>\n",
              "      <th>degree_t</th>\n",
              "      <th>workex</th>\n",
              "      <th>etest_p</th>\n",
              "      <th>specialisation</th>\n",
              "      <th>mba_p</th>\n",
              "      <th>status</th>\n",
              "      <th>salary</th>\n",
              "    </tr>\n",
              "  </thead>\n",
              "  <tbody>\n",
              "    <tr>\n",
              "      <th>0</th>\n",
              "      <td>1</td>\n",
              "      <td>M</td>\n",
              "      <td>67.00</td>\n",
              "      <td>Others</td>\n",
              "      <td>91.00</td>\n",
              "      <td>Others</td>\n",
              "      <td>Commerce</td>\n",
              "      <td>58.00</td>\n",
              "      <td>Sci&amp;Tech</td>\n",
              "      <td>No</td>\n",
              "      <td>55.0</td>\n",
              "      <td>Mkt&amp;HR</td>\n",
              "      <td>58.80</td>\n",
              "      <td>Placed</td>\n",
              "      <td>270000.0</td>\n",
              "    </tr>\n",
              "    <tr>\n",
              "      <th>1</th>\n",
              "      <td>2</td>\n",
              "      <td>M</td>\n",
              "      <td>79.33</td>\n",
              "      <td>Central</td>\n",
              "      <td>78.33</td>\n",
              "      <td>Others</td>\n",
              "      <td>Science</td>\n",
              "      <td>77.48</td>\n",
              "      <td>Sci&amp;Tech</td>\n",
              "      <td>Yes</td>\n",
              "      <td>86.5</td>\n",
              "      <td>Mkt&amp;Fin</td>\n",
              "      <td>66.28</td>\n",
              "      <td>Placed</td>\n",
              "      <td>200000.0</td>\n",
              "    </tr>\n",
              "    <tr>\n",
              "      <th>2</th>\n",
              "      <td>3</td>\n",
              "      <td>M</td>\n",
              "      <td>65.00</td>\n",
              "      <td>Central</td>\n",
              "      <td>68.00</td>\n",
              "      <td>Central</td>\n",
              "      <td>Arts</td>\n",
              "      <td>64.00</td>\n",
              "      <td>Comm&amp;Mgmt</td>\n",
              "      <td>No</td>\n",
              "      <td>75.0</td>\n",
              "      <td>Mkt&amp;Fin</td>\n",
              "      <td>57.80</td>\n",
              "      <td>Placed</td>\n",
              "      <td>250000.0</td>\n",
              "    </tr>\n",
              "    <tr>\n",
              "      <th>3</th>\n",
              "      <td>4</td>\n",
              "      <td>M</td>\n",
              "      <td>56.00</td>\n",
              "      <td>Central</td>\n",
              "      <td>52.00</td>\n",
              "      <td>Central</td>\n",
              "      <td>Science</td>\n",
              "      <td>52.00</td>\n",
              "      <td>Sci&amp;Tech</td>\n",
              "      <td>No</td>\n",
              "      <td>66.0</td>\n",
              "      <td>Mkt&amp;HR</td>\n",
              "      <td>59.43</td>\n",
              "      <td>Not Placed</td>\n",
              "      <td>NaN</td>\n",
              "    </tr>\n",
              "    <tr>\n",
              "      <th>4</th>\n",
              "      <td>5</td>\n",
              "      <td>M</td>\n",
              "      <td>85.80</td>\n",
              "      <td>Central</td>\n",
              "      <td>73.60</td>\n",
              "      <td>Central</td>\n",
              "      <td>Commerce</td>\n",
              "      <td>73.30</td>\n",
              "      <td>Comm&amp;Mgmt</td>\n",
              "      <td>No</td>\n",
              "      <td>96.8</td>\n",
              "      <td>Mkt&amp;Fin</td>\n",
              "      <td>55.50</td>\n",
              "      <td>Placed</td>\n",
              "      <td>425000.0</td>\n",
              "    </tr>\n",
              "  </tbody>\n",
              "</table>\n",
              "</div>"
            ],
            "text/plain": [
              "   sl_no gender  ssc_p    ssc_b  ...  specialisation  mba_p      status    salary\n",
              "0      1      M  67.00   Others  ...          Mkt&HR  58.80      Placed  270000.0\n",
              "1      2      M  79.33  Central  ...         Mkt&Fin  66.28      Placed  200000.0\n",
              "2      3      M  65.00  Central  ...         Mkt&Fin  57.80      Placed  250000.0\n",
              "3      4      M  56.00  Central  ...          Mkt&HR  59.43  Not Placed       NaN\n",
              "4      5      M  85.80  Central  ...         Mkt&Fin  55.50      Placed  425000.0\n",
              "\n",
              "[5 rows x 15 columns]"
            ]
          },
          "metadata": {},
          "execution_count": 3
        }
      ]
    },
    {
      "cell_type": "code",
      "metadata": {
        "colab": {
          "base_uri": "https://localhost:8080/"
        },
        "id": "ERMm5LXAoiEa",
        "outputId": "37955202-3e11-4b2a-94f0-6c61a750472c"
      },
      "source": [
        "campus.shape"
      ],
      "execution_count": null,
      "outputs": [
        {
          "output_type": "execute_result",
          "data": {
            "text/plain": [
              "(215, 15)"
            ]
          },
          "metadata": {},
          "execution_count": 4
        }
      ]
    },
    {
      "cell_type": "markdown",
      "metadata": {
        "id": "TUBYGIWEocW3"
      },
      "source": [
        "**Onservation:**\n",
        "The dataset consists of 215 rows and 15 columns. They represent placement information of students along with their educational history.\n"
      ]
    },
    {
      "cell_type": "markdown",
      "metadata": {
        "id": "iGx46Jr8raNs"
      },
      "source": [
        "> **That's all we can tell by looking at this raw data**\n",
        "\n",
        "\n",
        "> We cannot make any useful observations from this data such as any of the below:\n",
        "\n",
        "*- Are the students with first class (above 60%) in Degree more likely to be placed?*\n",
        "\n",
        "*- Do any of the other scores play a significant role in a student getting placed?*\n",
        "\n",
        "*- Is any specific branch being favored by companies during placement?*\n",
        "\n",
        "**Let's create a simple pivot table from this data-**"
      ]
    },
    {
      "cell_type": "code",
      "metadata": {
        "colab": {
          "base_uri": "https://localhost:8080/",
          "height": 206
        },
        "id": "skK1uBdsVVB8",
        "outputId": "5388fffa-6e26-4eb0-cf56-0b4a464e73cd"
      },
      "source": [
        "campus.head()"
      ],
      "execution_count": null,
      "outputs": [
        {
          "output_type": "execute_result",
          "data": {
            "text/html": [
              "<div>\n",
              "<style scoped>\n",
              "    .dataframe tbody tr th:only-of-type {\n",
              "        vertical-align: middle;\n",
              "    }\n",
              "\n",
              "    .dataframe tbody tr th {\n",
              "        vertical-align: top;\n",
              "    }\n",
              "\n",
              "    .dataframe thead th {\n",
              "        text-align: right;\n",
              "    }\n",
              "</style>\n",
              "<table border=\"1\" class=\"dataframe\">\n",
              "  <thead>\n",
              "    <tr style=\"text-align: right;\">\n",
              "      <th></th>\n",
              "      <th>sl_no</th>\n",
              "      <th>gender</th>\n",
              "      <th>ssc_p</th>\n",
              "      <th>ssc_b</th>\n",
              "      <th>hsc_p</th>\n",
              "      <th>hsc_b</th>\n",
              "      <th>hsc_s</th>\n",
              "      <th>degree_p</th>\n",
              "      <th>degree_t</th>\n",
              "      <th>workex</th>\n",
              "      <th>etest_p</th>\n",
              "      <th>specialisation</th>\n",
              "      <th>mba_p</th>\n",
              "      <th>status</th>\n",
              "      <th>salary</th>\n",
              "    </tr>\n",
              "  </thead>\n",
              "  <tbody>\n",
              "    <tr>\n",
              "      <th>0</th>\n",
              "      <td>1</td>\n",
              "      <td>M</td>\n",
              "      <td>67.00</td>\n",
              "      <td>Others</td>\n",
              "      <td>91.00</td>\n",
              "      <td>Others</td>\n",
              "      <td>Commerce</td>\n",
              "      <td>58.00</td>\n",
              "      <td>Sci&amp;Tech</td>\n",
              "      <td>No</td>\n",
              "      <td>55.0</td>\n",
              "      <td>Mkt&amp;HR</td>\n",
              "      <td>58.80</td>\n",
              "      <td>Placed</td>\n",
              "      <td>270000.0</td>\n",
              "    </tr>\n",
              "    <tr>\n",
              "      <th>1</th>\n",
              "      <td>2</td>\n",
              "      <td>M</td>\n",
              "      <td>79.33</td>\n",
              "      <td>Central</td>\n",
              "      <td>78.33</td>\n",
              "      <td>Others</td>\n",
              "      <td>Science</td>\n",
              "      <td>77.48</td>\n",
              "      <td>Sci&amp;Tech</td>\n",
              "      <td>Yes</td>\n",
              "      <td>86.5</td>\n",
              "      <td>Mkt&amp;Fin</td>\n",
              "      <td>66.28</td>\n",
              "      <td>Placed</td>\n",
              "      <td>200000.0</td>\n",
              "    </tr>\n",
              "    <tr>\n",
              "      <th>2</th>\n",
              "      <td>3</td>\n",
              "      <td>M</td>\n",
              "      <td>65.00</td>\n",
              "      <td>Central</td>\n",
              "      <td>68.00</td>\n",
              "      <td>Central</td>\n",
              "      <td>Arts</td>\n",
              "      <td>64.00</td>\n",
              "      <td>Comm&amp;Mgmt</td>\n",
              "      <td>No</td>\n",
              "      <td>75.0</td>\n",
              "      <td>Mkt&amp;Fin</td>\n",
              "      <td>57.80</td>\n",
              "      <td>Placed</td>\n",
              "      <td>250000.0</td>\n",
              "    </tr>\n",
              "    <tr>\n",
              "      <th>3</th>\n",
              "      <td>4</td>\n",
              "      <td>M</td>\n",
              "      <td>56.00</td>\n",
              "      <td>Central</td>\n",
              "      <td>52.00</td>\n",
              "      <td>Central</td>\n",
              "      <td>Science</td>\n",
              "      <td>52.00</td>\n",
              "      <td>Sci&amp;Tech</td>\n",
              "      <td>No</td>\n",
              "      <td>66.0</td>\n",
              "      <td>Mkt&amp;HR</td>\n",
              "      <td>59.43</td>\n",
              "      <td>Not Placed</td>\n",
              "      <td>NaN</td>\n",
              "    </tr>\n",
              "    <tr>\n",
              "      <th>4</th>\n",
              "      <td>5</td>\n",
              "      <td>M</td>\n",
              "      <td>85.80</td>\n",
              "      <td>Central</td>\n",
              "      <td>73.60</td>\n",
              "      <td>Central</td>\n",
              "      <td>Commerce</td>\n",
              "      <td>73.30</td>\n",
              "      <td>Comm&amp;Mgmt</td>\n",
              "      <td>No</td>\n",
              "      <td>96.8</td>\n",
              "      <td>Mkt&amp;Fin</td>\n",
              "      <td>55.50</td>\n",
              "      <td>Placed</td>\n",
              "      <td>425000.0</td>\n",
              "    </tr>\n",
              "  </tbody>\n",
              "</table>\n",
              "</div>"
            ],
            "text/plain": [
              "   sl_no gender  ssc_p    ssc_b  ...  specialisation  mba_p      status    salary\n",
              "0      1      M  67.00   Others  ...          Mkt&HR  58.80      Placed  270000.0\n",
              "1      2      M  79.33  Central  ...         Mkt&Fin  66.28      Placed  200000.0\n",
              "2      3      M  65.00  Central  ...         Mkt&Fin  57.80      Placed  250000.0\n",
              "3      4      M  56.00  Central  ...          Mkt&HR  59.43  Not Placed       NaN\n",
              "4      5      M  85.80  Central  ...         Mkt&Fin  55.50      Placed  425000.0\n",
              "\n",
              "[5 rows x 15 columns]"
            ]
          },
          "metadata": {},
          "execution_count": 5
        }
      ]
    },
    {
      "cell_type": "code",
      "metadata": {
        "colab": {
          "base_uri": "https://localhost:8080/",
          "height": 143
        },
        "id": "n9HgW4Q9GeXT",
        "outputId": "954e2f56-dd3b-4b23-f9c8-451d7cf4c04c"
      },
      "source": [
        "pt = pd.crosstab(campus['status'], campus['specialisation']).round(4)\n",
        "pt"
      ],
      "execution_count": null,
      "outputs": [
        {
          "output_type": "execute_result",
          "data": {
            "text/html": [
              "<div>\n",
              "<style scoped>\n",
              "    .dataframe tbody tr th:only-of-type {\n",
              "        vertical-align: middle;\n",
              "    }\n",
              "\n",
              "    .dataframe tbody tr th {\n",
              "        vertical-align: top;\n",
              "    }\n",
              "\n",
              "    .dataframe thead th {\n",
              "        text-align: right;\n",
              "    }\n",
              "</style>\n",
              "<table border=\"1\" class=\"dataframe\">\n",
              "  <thead>\n",
              "    <tr style=\"text-align: right;\">\n",
              "      <th>specialisation</th>\n",
              "      <th>Mkt&amp;Fin</th>\n",
              "      <th>Mkt&amp;HR</th>\n",
              "    </tr>\n",
              "    <tr>\n",
              "      <th>status</th>\n",
              "      <th></th>\n",
              "      <th></th>\n",
              "    </tr>\n",
              "  </thead>\n",
              "  <tbody>\n",
              "    <tr>\n",
              "      <th>Not Placed</th>\n",
              "      <td>25</td>\n",
              "      <td>42</td>\n",
              "    </tr>\n",
              "    <tr>\n",
              "      <th>Placed</th>\n",
              "      <td>95</td>\n",
              "      <td>53</td>\n",
              "    </tr>\n",
              "  </tbody>\n",
              "</table>\n",
              "</div>"
            ],
            "text/plain": [
              "specialisation  Mkt&Fin  Mkt&HR\n",
              "status                         \n",
              "Not Placed           25      42\n",
              "Placed               95      53"
            ]
          },
          "metadata": {},
          "execution_count": 8
        }
      ]
    },
    {
      "cell_type": "code",
      "metadata": {
        "colab": {
          "base_uri": "https://localhost:8080/"
        },
        "id": "V2GMPqoLG-_Z",
        "outputId": "dbf75ec5-7928-4dce-d770-ba3dfa19f05e"
      },
      "source": [
        "campus.index"
      ],
      "execution_count": null,
      "outputs": [
        {
          "output_type": "execute_result",
          "data": {
            "text/plain": [
              "RangeIndex(start=0, stop=215, step=1)"
            ]
          },
          "metadata": {},
          "execution_count": 9
        }
      ]
    },
    {
      "cell_type": "code",
      "metadata": {
        "colab": {
          "base_uri": "https://localhost:8080/",
          "height": 143
        },
        "id": "2nAVKxjPoWGy",
        "outputId": "2cfffd88-839c-40b9-eae1-a89e6fbc44e6"
      },
      "source": [
        "pt = pd.crosstab(campus['status'], campus['specialisation'], normalize= 'index').round(4)*100\n",
        "pt"
      ],
      "execution_count": null,
      "outputs": [
        {
          "output_type": "execute_result",
          "data": {
            "text/html": [
              "<div>\n",
              "<style scoped>\n",
              "    .dataframe tbody tr th:only-of-type {\n",
              "        vertical-align: middle;\n",
              "    }\n",
              "\n",
              "    .dataframe tbody tr th {\n",
              "        vertical-align: top;\n",
              "    }\n",
              "\n",
              "    .dataframe thead th {\n",
              "        text-align: right;\n",
              "    }\n",
              "</style>\n",
              "<table border=\"1\" class=\"dataframe\">\n",
              "  <thead>\n",
              "    <tr style=\"text-align: right;\">\n",
              "      <th>specialisation</th>\n",
              "      <th>Mkt&amp;Fin</th>\n",
              "      <th>Mkt&amp;HR</th>\n",
              "    </tr>\n",
              "    <tr>\n",
              "      <th>status</th>\n",
              "      <th></th>\n",
              "      <th></th>\n",
              "    </tr>\n",
              "  </thead>\n",
              "  <tbody>\n",
              "    <tr>\n",
              "      <th>Not Placed</th>\n",
              "      <td>37.31</td>\n",
              "      <td>62.69</td>\n",
              "    </tr>\n",
              "    <tr>\n",
              "      <th>Placed</th>\n",
              "      <td>64.19</td>\n",
              "      <td>35.81</td>\n",
              "    </tr>\n",
              "  </tbody>\n",
              "</table>\n",
              "</div>"
            ],
            "text/plain": [
              "specialisation  Mkt&Fin  Mkt&HR\n",
              "status                         \n",
              "Not Placed        37.31   62.69\n",
              "Placed            64.19   35.81"
            ]
          },
          "metadata": {},
          "execution_count": 6
        }
      ]
    },
    {
      "cell_type": "code",
      "metadata": {
        "colab": {
          "base_uri": "https://localhost:8080/",
          "height": 143
        },
        "id": "bPZu5GRSH5rF",
        "outputId": "506d0ed9-dbb6-454e-80aa-8e334bbcf30c"
      },
      "source": [
        "pt = pd.crosstab(campus['status'], campus['specialisation'], normalize= 'columns').round(4)*100\n",
        "pt"
      ],
      "execution_count": null,
      "outputs": [
        {
          "output_type": "execute_result",
          "data": {
            "text/html": [
              "<div>\n",
              "<style scoped>\n",
              "    .dataframe tbody tr th:only-of-type {\n",
              "        vertical-align: middle;\n",
              "    }\n",
              "\n",
              "    .dataframe tbody tr th {\n",
              "        vertical-align: top;\n",
              "    }\n",
              "\n",
              "    .dataframe thead th {\n",
              "        text-align: right;\n",
              "    }\n",
              "</style>\n",
              "<table border=\"1\" class=\"dataframe\">\n",
              "  <thead>\n",
              "    <tr style=\"text-align: right;\">\n",
              "      <th>specialisation</th>\n",
              "      <th>Mkt&amp;Fin</th>\n",
              "      <th>Mkt&amp;HR</th>\n",
              "    </tr>\n",
              "    <tr>\n",
              "      <th>status</th>\n",
              "      <th></th>\n",
              "      <th></th>\n",
              "    </tr>\n",
              "  </thead>\n",
              "  <tbody>\n",
              "    <tr>\n",
              "      <th>Not Placed</th>\n",
              "      <td>20.83</td>\n",
              "      <td>44.21</td>\n",
              "    </tr>\n",
              "    <tr>\n",
              "      <th>Placed</th>\n",
              "      <td>79.17</td>\n",
              "      <td>55.79</td>\n",
              "    </tr>\n",
              "  </tbody>\n",
              "</table>\n",
              "</div>"
            ],
            "text/plain": [
              "specialisation  Mkt&Fin  Mkt&HR\n",
              "status                         \n",
              "Not Placed        20.83   44.21\n",
              "Placed            79.17   55.79"
            ]
          },
          "metadata": {},
          "execution_count": 10
        }
      ]
    },
    {
      "cell_type": "code",
      "metadata": {
        "colab": {
          "base_uri": "https://localhost:8080/",
          "height": 143
        },
        "id": "eFsRma0YIJLo",
        "outputId": "bc12f5e2-1384-4d0d-9169-78215836553d"
      },
      "source": [
        "pt = pd.crosstab(campus['status'], campus['specialisation'], normalize= 'all').round(4)*100\n",
        "pt"
      ],
      "execution_count": null,
      "outputs": [
        {
          "output_type": "execute_result",
          "data": {
            "text/html": [
              "<div>\n",
              "<style scoped>\n",
              "    .dataframe tbody tr th:only-of-type {\n",
              "        vertical-align: middle;\n",
              "    }\n",
              "\n",
              "    .dataframe tbody tr th {\n",
              "        vertical-align: top;\n",
              "    }\n",
              "\n",
              "    .dataframe thead th {\n",
              "        text-align: right;\n",
              "    }\n",
              "</style>\n",
              "<table border=\"1\" class=\"dataframe\">\n",
              "  <thead>\n",
              "    <tr style=\"text-align: right;\">\n",
              "      <th>specialisation</th>\n",
              "      <th>Mkt&amp;Fin</th>\n",
              "      <th>Mkt&amp;HR</th>\n",
              "    </tr>\n",
              "    <tr>\n",
              "      <th>status</th>\n",
              "      <th></th>\n",
              "      <th></th>\n",
              "    </tr>\n",
              "  </thead>\n",
              "  <tbody>\n",
              "    <tr>\n",
              "      <th>Not Placed</th>\n",
              "      <td>11.63</td>\n",
              "      <td>19.53</td>\n",
              "    </tr>\n",
              "    <tr>\n",
              "      <th>Placed</th>\n",
              "      <td>44.19</td>\n",
              "      <td>24.65</td>\n",
              "    </tr>\n",
              "  </tbody>\n",
              "</table>\n",
              "</div>"
            ],
            "text/plain": [
              "specialisation  Mkt&Fin  Mkt&HR\n",
              "status                         \n",
              "Not Placed        11.63   19.53\n",
              "Placed            44.19   24.65"
            ]
          },
          "metadata": {},
          "execution_count": 11
        }
      ]
    },
    {
      "cell_type": "markdown",
      "metadata": {
        "id": "5hoKuBkrtnRH"
      },
      "source": [
        "**Observation:**The % of placement is much higher in Mkt&Fin (64%) as compared to Mkt&HR (36%)\n",
        "\n",
        "**Insight:** The BFSI sector is booming and the jobs related to that field are in more demand\n",
        "\n",
        "**Business Benefit:** The educational institute can plan to increase its intake of students for Mkt&Fin field\n",
        "\n",
        "\n",
        "> **Here, Pivot Table is a type of Statistical Analysis performed on the data which resulted in gettng some useful information from the otherwise unvaluable data.**\n",
        "\n",
        "> **_This is the importance of Statistical Analysis in Businesses._**\n",
        "\n"
      ]
    },
    {
      "cell_type": "markdown",
      "metadata": {
        "id": "DF8hhaAfhMwo"
      },
      "source": [
        "## **Part 2: Measures of Central Tendency**"
      ]
    },
    {
      "cell_type": "markdown",
      "metadata": {
        "id": "FfGXrPmNat5u"
      },
      "source": [
        "The online sector, referred to as “clicks,” has been slowly eating up market share in the past two decades.\n",
        "\n",
        "E-commerce platform allows people to buy products from books, toys, clothes, and shoes to food, furniture, and other household items.\n",
        "\n",
        "ABOUT THE DATA\n",
        "\n",
        "This is a data set of US superstore from 2014-2018\n",
        "\n",
        "Let us understand the attributes of this data set:\n",
        "\n",
        "1. 'Row ID' - This is nothing but Serial No.\n",
        "2. 'Order ID' - ID created when a product order is placed.\n",
        "3. 'Order Date' - Date on which a customer places his/her order.\n",
        "4. 'Ship Date' - Date on which the order is shipped.\n",
        "5. 'Ship Mode' - Mode of shipment of each order.\n",
        "6. 'Customer ID' - ID assigned to each customer who places an order.\n",
        "7. 'Customer Name' - Name of Customer.\n",
        "8. 'Segment' - Section from where the order is placed.\n",
        "9. 'Country' - Country details of this data set. We are looking only for US store data.\n",
        "10. 'City' - Cities of US are listed here.\n",
        "11. 'State' - States of US are listed here.\n",
        "12. 'Postal Code' - pin code\n",
        "13. 'Region' - grouped into region wise\n",
        "14. 'Product ID' - Product ID of each product\n",
        "15. 'Category' - Category to which each product belongs to.\n",
        "16. 'Sub-Category' - Sub-Category of each Category\n",
        "17. 'Product Name' - Name of products.\n",
        "18. 'Sales' - Selling Price of each product.\n",
        "19. 'Quantity' - number of quantity available for a particular product.\n",
        "20. 'Discount' - Discount available on each product.\n",
        "21. 'Profit' - Profit gained on each product.\n",
        "\n"
      ]
    },
    {
      "cell_type": "markdown",
      "metadata": {
        "id": "HSuO_KvtBjfO"
      },
      "source": [
        "###**Tasks to be Performed:**\n",
        "\n",
        "- What is the average sales of products between the year 2014 and 2018 and, also find the average amount of products purchased by customers?\n",
        "- What is the median profit gained between the years 2014 and 2018?\n",
        "- Find out the most sold product in the US\n",
        "\n",
        "\n"
      ]
    },
    {
      "cell_type": "markdown",
      "metadata": {
        "id": "44asn7NjitzA"
      },
      "source": [
        "###**Downloading the dataset from the Dropbox**"
      ]
    },
    {
      "cell_type": "code",
      "metadata": {
        "colab": {
          "base_uri": "https://localhost:8080/"
        },
        "id": "hkbHRYqhitzA",
        "outputId": "1a1095e2-198d-40b4-9860-76f0e8fa3577"
      },
      "source": [
        "#Downloading the Dataset from the Dropbox\n",
        "\n",
        "!wget https://www.dropbox.com/s/kpzd0uzqczklfly/US%20Superstore%20data.xls"
      ],
      "execution_count": null,
      "outputs": [
        {
          "output_type": "stream",
          "name": "stdout",
          "text": [
            "--2021-11-06 04:08:25--  https://www.dropbox.com/s/kpzd0uzqczklfly/US%20Superstore%20data.xls\n",
            "Resolving www.dropbox.com (www.dropbox.com)... 162.125.5.18, 2620:100:601d:18::a27d:512\n",
            "Connecting to www.dropbox.com (www.dropbox.com)|162.125.5.18|:443... connected.\n",
            "HTTP request sent, awaiting response... 301 Moved Permanently\n",
            "Location: /s/raw/kpzd0uzqczklfly/US%20Superstore%20data.xls [following]\n",
            "--2021-11-06 04:08:25--  https://www.dropbox.com/s/raw/kpzd0uzqczklfly/US%20Superstore%20data.xls\n",
            "Reusing existing connection to www.dropbox.com:443.\n",
            "HTTP request sent, awaiting response... 302 Found\n",
            "Location: https://uc9f556b2ccd68fe9947b85624db.dl.dropboxusercontent.com/cd/0/inline/BZZBqRxS9SWO7yfeRvv2G0ABrKfD2Q_4opthMAUdmsgGOqYuw2rTDjpJhnsI9sDNrWP-4ZCrQVhj1TLIGPGxSmp7awpF3eTfoI_wdaLDl3YmsUoXGBLRxvWGobgTR5_0SYUrR6x5WO4mmYb9IHJPhEUN/file# [following]\n",
            "--2021-11-06 04:08:25--  https://uc9f556b2ccd68fe9947b85624db.dl.dropboxusercontent.com/cd/0/inline/BZZBqRxS9SWO7yfeRvv2G0ABrKfD2Q_4opthMAUdmsgGOqYuw2rTDjpJhnsI9sDNrWP-4ZCrQVhj1TLIGPGxSmp7awpF3eTfoI_wdaLDl3YmsUoXGBLRxvWGobgTR5_0SYUrR6x5WO4mmYb9IHJPhEUN/file\n",
            "Resolving uc9f556b2ccd68fe9947b85624db.dl.dropboxusercontent.com (uc9f556b2ccd68fe9947b85624db.dl.dropboxusercontent.com)... 162.125.5.15, 2620:100:601d:15::a27d:50f\n",
            "Connecting to uc9f556b2ccd68fe9947b85624db.dl.dropboxusercontent.com (uc9f556b2ccd68fe9947b85624db.dl.dropboxusercontent.com)|162.125.5.15|:443... connected.\n",
            "HTTP request sent, awaiting response... 302 Found\n",
            "Location: /cd/0/inline2/BZb_UzwqIM7PfKYxV4pSFK5xq1sc6oxyWCS1QjZg0EO62qhnFSS49TzDfA0HZ11wowGRvC6Xsmr_Vh1Y5hzgZkScc17ARNofa8nKjpPNgI_Vy7tyxBC0OkeHUaWStPVz30kyEJjZGxL-QYo91fOn-ciHYgZncTLSf2emM12Xlfgaw-ZOIS4k8b5PNdY-SDQUB0JiJJ60ByaXkqLRw5l6GnWS90AZra8hWYQ4VPfTLPrkbfzk5-jZMxVAFRzbu9LwsrPPKvCuVoykgtn9OVcv31Sh-wZho_3E_cmAQQHSA3BtBkKfp-nYMjCl91DsziuMYrEet48VVZdS0B2h6VwIt0rMR9vh7xcQy7IfC-mPP7RZl_YNkCIEP41GUbOYxsl7nfg/file [following]\n",
            "--2021-11-06 04:08:26--  https://uc9f556b2ccd68fe9947b85624db.dl.dropboxusercontent.com/cd/0/inline2/BZb_UzwqIM7PfKYxV4pSFK5xq1sc6oxyWCS1QjZg0EO62qhnFSS49TzDfA0HZ11wowGRvC6Xsmr_Vh1Y5hzgZkScc17ARNofa8nKjpPNgI_Vy7tyxBC0OkeHUaWStPVz30kyEJjZGxL-QYo91fOn-ciHYgZncTLSf2emM12Xlfgaw-ZOIS4k8b5PNdY-SDQUB0JiJJ60ByaXkqLRw5l6GnWS90AZra8hWYQ4VPfTLPrkbfzk5-jZMxVAFRzbu9LwsrPPKvCuVoykgtn9OVcv31Sh-wZho_3E_cmAQQHSA3BtBkKfp-nYMjCl91DsziuMYrEet48VVZdS0B2h6VwIt0rMR9vh7xcQy7IfC-mPP7RZl_YNkCIEP41GUbOYxsl7nfg/file\n",
            "Reusing existing connection to uc9f556b2ccd68fe9947b85624db.dl.dropboxusercontent.com:443.\n",
            "HTTP request sent, awaiting response... 200 OK\n",
            "Length: 3348992 (3.2M) [application/vnd.ms-excel]\n",
            "Saving to: ‘US Superstore data.xls’\n",
            "\n",
            "US Superstore data. 100%[===================>]   3.19M  --.-KB/s    in 0.1s    \n",
            "\n",
            "2021-11-06 04:08:26 (24.8 MB/s) - ‘US Superstore data.xls’ saved [3348992/3348992]\n",
            "\n"
          ]
        }
      ]
    },
    {
      "cell_type": "code",
      "metadata": {
        "colab": {
          "base_uri": "https://localhost:8080/",
          "height": 931
        },
        "id": "8k-18--mlTeq",
        "outputId": "613ca3e3-3ea0-4e9b-df3b-a48c1802a918"
      },
      "source": [
        "df = pd.read_excel('US Superstore data.xls')\n",
        "df.head(10)"
      ],
      "execution_count": null,
      "outputs": [
        {
          "output_type": "execute_result",
          "data": {
            "text/html": [
              "<div>\n",
              "<style scoped>\n",
              "    .dataframe tbody tr th:only-of-type {\n",
              "        vertical-align: middle;\n",
              "    }\n",
              "\n",
              "    .dataframe tbody tr th {\n",
              "        vertical-align: top;\n",
              "    }\n",
              "\n",
              "    .dataframe thead th {\n",
              "        text-align: right;\n",
              "    }\n",
              "</style>\n",
              "<table border=\"1\" class=\"dataframe\">\n",
              "  <thead>\n",
              "    <tr style=\"text-align: right;\">\n",
              "      <th></th>\n",
              "      <th>Row ID</th>\n",
              "      <th>Order ID</th>\n",
              "      <th>Order Date</th>\n",
              "      <th>Ship Date</th>\n",
              "      <th>Ship Mode</th>\n",
              "      <th>Customer ID</th>\n",
              "      <th>Customer Name</th>\n",
              "      <th>Segment</th>\n",
              "      <th>Country</th>\n",
              "      <th>City</th>\n",
              "      <th>State</th>\n",
              "      <th>Postal Code</th>\n",
              "      <th>Region</th>\n",
              "      <th>Product ID</th>\n",
              "      <th>Category</th>\n",
              "      <th>Sub-Category</th>\n",
              "      <th>Product Name</th>\n",
              "      <th>Sales</th>\n",
              "      <th>Quantity</th>\n",
              "      <th>Discount</th>\n",
              "      <th>Profit</th>\n",
              "    </tr>\n",
              "  </thead>\n",
              "  <tbody>\n",
              "    <tr>\n",
              "      <th>0</th>\n",
              "      <td>1</td>\n",
              "      <td>CA-2016-152156</td>\n",
              "      <td>2016-11-08</td>\n",
              "      <td>2016-11-11</td>\n",
              "      <td>Second Class</td>\n",
              "      <td>CG-12520</td>\n",
              "      <td>Claire Gute</td>\n",
              "      <td>Consumer</td>\n",
              "      <td>United States</td>\n",
              "      <td>Henderson</td>\n",
              "      <td>Kentucky</td>\n",
              "      <td>42420</td>\n",
              "      <td>South</td>\n",
              "      <td>FUR-BO-10001798</td>\n",
              "      <td>Furniture</td>\n",
              "      <td>Bookcases</td>\n",
              "      <td>Bush Somerset Collection Bookcase</td>\n",
              "      <td>261.9600</td>\n",
              "      <td>2</td>\n",
              "      <td>0.00</td>\n",
              "      <td>41.9136</td>\n",
              "    </tr>\n",
              "    <tr>\n",
              "      <th>1</th>\n",
              "      <td>2</td>\n",
              "      <td>CA-2016-152156</td>\n",
              "      <td>2016-11-08</td>\n",
              "      <td>2016-11-11</td>\n",
              "      <td>Second Class</td>\n",
              "      <td>CG-12520</td>\n",
              "      <td>Claire Gute</td>\n",
              "      <td>Consumer</td>\n",
              "      <td>United States</td>\n",
              "      <td>Henderson</td>\n",
              "      <td>Kentucky</td>\n",
              "      <td>42420</td>\n",
              "      <td>South</td>\n",
              "      <td>FUR-CH-10000454</td>\n",
              "      <td>Furniture</td>\n",
              "      <td>Chairs</td>\n",
              "      <td>Hon Deluxe Fabric Upholstered Stacking Chairs,...</td>\n",
              "      <td>731.9400</td>\n",
              "      <td>3</td>\n",
              "      <td>0.00</td>\n",
              "      <td>219.5820</td>\n",
              "    </tr>\n",
              "    <tr>\n",
              "      <th>2</th>\n",
              "      <td>3</td>\n",
              "      <td>CA-2016-138688</td>\n",
              "      <td>2016-06-12</td>\n",
              "      <td>2016-06-16</td>\n",
              "      <td>Second Class</td>\n",
              "      <td>DV-13045</td>\n",
              "      <td>Darrin Van Huff</td>\n",
              "      <td>Corporate</td>\n",
              "      <td>United States</td>\n",
              "      <td>Los Angeles</td>\n",
              "      <td>California</td>\n",
              "      <td>90036</td>\n",
              "      <td>West</td>\n",
              "      <td>OFF-LA-10000240</td>\n",
              "      <td>Office Supplies</td>\n",
              "      <td>Labels</td>\n",
              "      <td>Self-Adhesive Address Labels for Typewriters b...</td>\n",
              "      <td>14.6200</td>\n",
              "      <td>2</td>\n",
              "      <td>0.00</td>\n",
              "      <td>6.8714</td>\n",
              "    </tr>\n",
              "    <tr>\n",
              "      <th>3</th>\n",
              "      <td>4</td>\n",
              "      <td>US-2015-108966</td>\n",
              "      <td>2015-10-11</td>\n",
              "      <td>2015-10-18</td>\n",
              "      <td>Standard Class</td>\n",
              "      <td>SO-20335</td>\n",
              "      <td>Sean O'Donnell</td>\n",
              "      <td>Consumer</td>\n",
              "      <td>United States</td>\n",
              "      <td>Fort Lauderdale</td>\n",
              "      <td>Florida</td>\n",
              "      <td>33311</td>\n",
              "      <td>South</td>\n",
              "      <td>FUR-TA-10000577</td>\n",
              "      <td>Furniture</td>\n",
              "      <td>Tables</td>\n",
              "      <td>Bretford CR4500 Series Slim Rectangular Table</td>\n",
              "      <td>957.5775</td>\n",
              "      <td>5</td>\n",
              "      <td>0.45</td>\n",
              "      <td>-383.0310</td>\n",
              "    </tr>\n",
              "    <tr>\n",
              "      <th>4</th>\n",
              "      <td>5</td>\n",
              "      <td>US-2015-108966</td>\n",
              "      <td>2015-10-11</td>\n",
              "      <td>2015-10-18</td>\n",
              "      <td>Standard Class</td>\n",
              "      <td>SO-20335</td>\n",
              "      <td>Sean O'Donnell</td>\n",
              "      <td>Consumer</td>\n",
              "      <td>United States</td>\n",
              "      <td>Fort Lauderdale</td>\n",
              "      <td>Florida</td>\n",
              "      <td>33311</td>\n",
              "      <td>South</td>\n",
              "      <td>OFF-ST-10000760</td>\n",
              "      <td>Office Supplies</td>\n",
              "      <td>Storage</td>\n",
              "      <td>Eldon Fold 'N Roll Cart System</td>\n",
              "      <td>22.3680</td>\n",
              "      <td>2</td>\n",
              "      <td>0.20</td>\n",
              "      <td>2.5164</td>\n",
              "    </tr>\n",
              "    <tr>\n",
              "      <th>5</th>\n",
              "      <td>6</td>\n",
              "      <td>CA-2014-115812</td>\n",
              "      <td>2014-06-09</td>\n",
              "      <td>2014-06-14</td>\n",
              "      <td>Standard Class</td>\n",
              "      <td>BH-11710</td>\n",
              "      <td>Brosina Hoffman</td>\n",
              "      <td>Consumer</td>\n",
              "      <td>United States</td>\n",
              "      <td>Los Angeles</td>\n",
              "      <td>California</td>\n",
              "      <td>90032</td>\n",
              "      <td>West</td>\n",
              "      <td>FUR-FU-10001487</td>\n",
              "      <td>Furniture</td>\n",
              "      <td>Furnishings</td>\n",
              "      <td>Eldon Expressions Wood and Plastic Desk Access...</td>\n",
              "      <td>48.8600</td>\n",
              "      <td>7</td>\n",
              "      <td>0.00</td>\n",
              "      <td>14.1694</td>\n",
              "    </tr>\n",
              "    <tr>\n",
              "      <th>6</th>\n",
              "      <td>7</td>\n",
              "      <td>CA-2014-115812</td>\n",
              "      <td>2014-06-09</td>\n",
              "      <td>2014-06-14</td>\n",
              "      <td>Standard Class</td>\n",
              "      <td>BH-11710</td>\n",
              "      <td>Brosina Hoffman</td>\n",
              "      <td>Consumer</td>\n",
              "      <td>United States</td>\n",
              "      <td>Los Angeles</td>\n",
              "      <td>California</td>\n",
              "      <td>90032</td>\n",
              "      <td>West</td>\n",
              "      <td>OFF-AR-10002833</td>\n",
              "      <td>Office Supplies</td>\n",
              "      <td>Art</td>\n",
              "      <td>Newell 322</td>\n",
              "      <td>7.2800</td>\n",
              "      <td>4</td>\n",
              "      <td>0.00</td>\n",
              "      <td>1.9656</td>\n",
              "    </tr>\n",
              "    <tr>\n",
              "      <th>7</th>\n",
              "      <td>8</td>\n",
              "      <td>CA-2014-115812</td>\n",
              "      <td>2014-06-09</td>\n",
              "      <td>2014-06-14</td>\n",
              "      <td>Standard Class</td>\n",
              "      <td>BH-11710</td>\n",
              "      <td>Brosina Hoffman</td>\n",
              "      <td>Consumer</td>\n",
              "      <td>United States</td>\n",
              "      <td>Los Angeles</td>\n",
              "      <td>California</td>\n",
              "      <td>90032</td>\n",
              "      <td>West</td>\n",
              "      <td>TEC-PH-10002275</td>\n",
              "      <td>Technology</td>\n",
              "      <td>Phones</td>\n",
              "      <td>Mitel 5320 IP Phone VoIP phone</td>\n",
              "      <td>907.1520</td>\n",
              "      <td>6</td>\n",
              "      <td>0.20</td>\n",
              "      <td>90.7152</td>\n",
              "    </tr>\n",
              "    <tr>\n",
              "      <th>8</th>\n",
              "      <td>9</td>\n",
              "      <td>CA-2014-115812</td>\n",
              "      <td>2014-06-09</td>\n",
              "      <td>2014-06-14</td>\n",
              "      <td>Standard Class</td>\n",
              "      <td>BH-11710</td>\n",
              "      <td>Brosina Hoffman</td>\n",
              "      <td>Consumer</td>\n",
              "      <td>United States</td>\n",
              "      <td>Los Angeles</td>\n",
              "      <td>California</td>\n",
              "      <td>90032</td>\n",
              "      <td>West</td>\n",
              "      <td>OFF-BI-10003910</td>\n",
              "      <td>Office Supplies</td>\n",
              "      <td>Binders</td>\n",
              "      <td>DXL Angle-View Binders with Locking Rings by S...</td>\n",
              "      <td>18.5040</td>\n",
              "      <td>3</td>\n",
              "      <td>0.20</td>\n",
              "      <td>5.7825</td>\n",
              "    </tr>\n",
              "    <tr>\n",
              "      <th>9</th>\n",
              "      <td>10</td>\n",
              "      <td>CA-2014-115812</td>\n",
              "      <td>2014-06-09</td>\n",
              "      <td>2014-06-14</td>\n",
              "      <td>Standard Class</td>\n",
              "      <td>BH-11710</td>\n",
              "      <td>Brosina Hoffman</td>\n",
              "      <td>Consumer</td>\n",
              "      <td>United States</td>\n",
              "      <td>Los Angeles</td>\n",
              "      <td>California</td>\n",
              "      <td>90032</td>\n",
              "      <td>West</td>\n",
              "      <td>OFF-AP-10002892</td>\n",
              "      <td>Office Supplies</td>\n",
              "      <td>Appliances</td>\n",
              "      <td>Belkin F5C206VTEL 6 Outlet Surge</td>\n",
              "      <td>114.9000</td>\n",
              "      <td>5</td>\n",
              "      <td>0.00</td>\n",
              "      <td>34.4700</td>\n",
              "    </tr>\n",
              "  </tbody>\n",
              "</table>\n",
              "</div>"
            ],
            "text/plain": [
              "   Row ID        Order ID Order Date  ... Quantity Discount    Profit\n",
              "0       1  CA-2016-152156 2016-11-08  ...        2     0.00   41.9136\n",
              "1       2  CA-2016-152156 2016-11-08  ...        3     0.00  219.5820\n",
              "2       3  CA-2016-138688 2016-06-12  ...        2     0.00    6.8714\n",
              "3       4  US-2015-108966 2015-10-11  ...        5     0.45 -383.0310\n",
              "4       5  US-2015-108966 2015-10-11  ...        2     0.20    2.5164\n",
              "5       6  CA-2014-115812 2014-06-09  ...        7     0.00   14.1694\n",
              "6       7  CA-2014-115812 2014-06-09  ...        4     0.00    1.9656\n",
              "7       8  CA-2014-115812 2014-06-09  ...        6     0.20   90.7152\n",
              "8       9  CA-2014-115812 2014-06-09  ...        3     0.20    5.7825\n",
              "9      10  CA-2014-115812 2014-06-09  ...        5     0.00   34.4700\n",
              "\n",
              "[10 rows x 21 columns]"
            ]
          },
          "metadata": {},
          "execution_count": 7
        }
      ]
    },
    {
      "cell_type": "markdown",
      "metadata": {
        "id": "8yB3-EpiPBxb"
      },
      "source": [
        "###**Measures of Central Tendency**"
      ]
    },
    {
      "cell_type": "markdown",
      "metadata": {
        "id": "9vLwEppGYlwB"
      },
      "source": [
        "####**Task 1:**\n",
        "What is the average sales of products between the year 2014 and 2018 and, also find the average amount of products purchased by customers?\n",
        "\n",
        "**Mean**"
      ]
    },
    {
      "cell_type": "code",
      "metadata": {
        "id": "5m9jLjWpdG39",
        "colab": {
          "base_uri": "https://localhost:8080/"
        },
        "outputId": "37432082-6133-4d93-ca09-e8b1301095b2"
      },
      "source": [
        "df[['Quantity','Sales']].mean()"
      ],
      "execution_count": null,
      "outputs": [
        {
          "output_type": "execute_result",
          "data": {
            "text/plain": [
              "Quantity      3.789574\n",
              "Sales       229.858001\n",
              "dtype: float64"
            ]
          },
          "metadata": {},
          "execution_count": 8
        }
      ]
    },
    {
      "cell_type": "code",
      "metadata": {
        "colab": {
          "base_uri": "https://localhost:8080/"
        },
        "id": "SI7eXTV-e-5W",
        "outputId": "853860ef-1329-4c29-b70f-dafb05c704fd"
      },
      "source": [
        "#Using method from Numpy\n",
        "np.mean(df.Quantity)"
      ],
      "execution_count": null,
      "outputs": [
        {
          "output_type": "execute_result",
          "data": {
            "text/plain": [
              "3.789573744246548"
            ]
          },
          "metadata": {},
          "execution_count": 35
        }
      ]
    },
    {
      "cell_type": "code",
      "metadata": {
        "colab": {
          "base_uri": "https://localhost:8080/",
          "height": 1000
        },
        "id": "THlGVtTVcWaW",
        "outputId": "740339d1-9286-47a7-dc6d-b59d5e53ba37"
      },
      "source": [
        "#Find mean after per state\n",
        "df.groupby(\"State\")[['Quantity','Sales']].mean()"
      ],
      "execution_count": null,
      "outputs": [
        {
          "output_type": "execute_result",
          "data": {
            "text/html": [
              "<div>\n",
              "<style scoped>\n",
              "    .dataframe tbody tr th:only-of-type {\n",
              "        vertical-align: middle;\n",
              "    }\n",
              "\n",
              "    .dataframe tbody tr th {\n",
              "        vertical-align: top;\n",
              "    }\n",
              "\n",
              "    .dataframe thead th {\n",
              "        text-align: right;\n",
              "    }\n",
              "</style>\n",
              "<table border=\"1\" class=\"dataframe\">\n",
              "  <thead>\n",
              "    <tr style=\"text-align: right;\">\n",
              "      <th></th>\n",
              "      <th>Quantity</th>\n",
              "      <th>Sales</th>\n",
              "    </tr>\n",
              "    <tr>\n",
              "      <th>State</th>\n",
              "      <th></th>\n",
              "      <th></th>\n",
              "    </tr>\n",
              "  </thead>\n",
              "  <tbody>\n",
              "    <tr>\n",
              "      <th>Alabama</th>\n",
              "      <td>4.196721</td>\n",
              "      <td>319.846557</td>\n",
              "    </tr>\n",
              "    <tr>\n",
              "      <th>Arizona</th>\n",
              "      <td>3.848214</td>\n",
              "      <td>157.508933</td>\n",
              "    </tr>\n",
              "    <tr>\n",
              "      <th>Arkansas</th>\n",
              "      <td>4.000000</td>\n",
              "      <td>194.635500</td>\n",
              "    </tr>\n",
              "    <tr>\n",
              "      <th>California</th>\n",
              "      <td>3.831584</td>\n",
              "      <td>228.729451</td>\n",
              "    </tr>\n",
              "    <tr>\n",
              "      <th>Colorado</th>\n",
              "      <td>3.807692</td>\n",
              "      <td>176.418231</td>\n",
              "    </tr>\n",
              "    <tr>\n",
              "      <th>Connecticut</th>\n",
              "      <td>3.426829</td>\n",
              "      <td>163.223866</td>\n",
              "    </tr>\n",
              "    <tr>\n",
              "      <th>Delaware</th>\n",
              "      <td>3.822917</td>\n",
              "      <td>285.948635</td>\n",
              "    </tr>\n",
              "    <tr>\n",
              "      <th>District of Columbia</th>\n",
              "      <td>4.000000</td>\n",
              "      <td>286.502000</td>\n",
              "    </tr>\n",
              "    <tr>\n",
              "      <th>Florida</th>\n",
              "      <td>3.600522</td>\n",
              "      <td>233.612815</td>\n",
              "    </tr>\n",
              "    <tr>\n",
              "      <th>Georgia</th>\n",
              "      <td>3.831522</td>\n",
              "      <td>266.825217</td>\n",
              "    </tr>\n",
              "    <tr>\n",
              "      <th>Idaho</th>\n",
              "      <td>3.047619</td>\n",
              "      <td>208.689810</td>\n",
              "    </tr>\n",
              "    <tr>\n",
              "      <th>Illinois</th>\n",
              "      <td>3.750000</td>\n",
              "      <td>162.939230</td>\n",
              "    </tr>\n",
              "    <tr>\n",
              "      <th>Indiana</th>\n",
              "      <td>3.879195</td>\n",
              "      <td>359.431946</td>\n",
              "    </tr>\n",
              "    <tr>\n",
              "      <th>Iowa</th>\n",
              "      <td>3.733333</td>\n",
              "      <td>152.658667</td>\n",
              "    </tr>\n",
              "    <tr>\n",
              "      <th>Kansas</th>\n",
              "      <td>3.083333</td>\n",
              "      <td>121.429583</td>\n",
              "    </tr>\n",
              "    <tr>\n",
              "      <th>Kentucky</th>\n",
              "      <td>3.762590</td>\n",
              "      <td>263.250000</td>\n",
              "    </tr>\n",
              "    <tr>\n",
              "      <th>Louisiana</th>\n",
              "      <td>3.714286</td>\n",
              "      <td>219.453095</td>\n",
              "    </tr>\n",
              "    <tr>\n",
              "      <th>Maine</th>\n",
              "      <td>4.375000</td>\n",
              "      <td>158.816250</td>\n",
              "    </tr>\n",
              "    <tr>\n",
              "      <th>Maryland</th>\n",
              "      <td>4.000000</td>\n",
              "      <td>225.766886</td>\n",
              "    </tr>\n",
              "    <tr>\n",
              "      <th>Massachusetts</th>\n",
              "      <td>3.637037</td>\n",
              "      <td>212.106919</td>\n",
              "    </tr>\n",
              "    <tr>\n",
              "      <th>Michigan</th>\n",
              "      <td>3.709804</td>\n",
              "      <td>299.096525</td>\n",
              "    </tr>\n",
              "    <tr>\n",
              "      <th>Minnesota</th>\n",
              "      <td>3.719101</td>\n",
              "      <td>335.541011</td>\n",
              "    </tr>\n",
              "    <tr>\n",
              "      <th>Mississippi</th>\n",
              "      <td>4.169811</td>\n",
              "      <td>203.232830</td>\n",
              "    </tr>\n",
              "    <tr>\n",
              "      <th>Missouri</th>\n",
              "      <td>3.818182</td>\n",
              "      <td>336.441667</td>\n",
              "    </tr>\n",
              "    <tr>\n",
              "      <th>Montana</th>\n",
              "      <td>3.733333</td>\n",
              "      <td>372.623467</td>\n",
              "    </tr>\n",
              "    <tr>\n",
              "      <th>Nebraska</th>\n",
              "      <td>3.578947</td>\n",
              "      <td>196.445526</td>\n",
              "    </tr>\n",
              "    <tr>\n",
              "      <th>Nevada</th>\n",
              "      <td>4.307692</td>\n",
              "      <td>428.951333</td>\n",
              "    </tr>\n",
              "    <tr>\n",
              "      <th>New Hampshire</th>\n",
              "      <td>4.703704</td>\n",
              "      <td>270.093481</td>\n",
              "    </tr>\n",
              "    <tr>\n",
              "      <th>New Jersey</th>\n",
              "      <td>3.492308</td>\n",
              "      <td>275.110092</td>\n",
              "    </tr>\n",
              "    <tr>\n",
              "      <th>New Mexico</th>\n",
              "      <td>4.081081</td>\n",
              "      <td>129.284378</td>\n",
              "    </tr>\n",
              "    <tr>\n",
              "      <th>New York</th>\n",
              "      <td>3.744681</td>\n",
              "      <td>275.599531</td>\n",
              "    </tr>\n",
              "    <tr>\n",
              "      <th>North Carolina</th>\n",
              "      <td>3.947791</td>\n",
              "      <td>223.305880</td>\n",
              "    </tr>\n",
              "    <tr>\n",
              "      <th>North Dakota</th>\n",
              "      <td>4.285714</td>\n",
              "      <td>131.415714</td>\n",
              "    </tr>\n",
              "    <tr>\n",
              "      <th>Ohio</th>\n",
              "      <td>3.750533</td>\n",
              "      <td>166.861697</td>\n",
              "    </tr>\n",
              "    <tr>\n",
              "      <th>Oklahoma</th>\n",
              "      <td>3.742424</td>\n",
              "      <td>298.233182</td>\n",
              "    </tr>\n",
              "    <tr>\n",
              "      <th>Oregon</th>\n",
              "      <td>4.024194</td>\n",
              "      <td>140.573790</td>\n",
              "    </tr>\n",
              "    <tr>\n",
              "      <th>Pennsylvania</th>\n",
              "      <td>3.667802</td>\n",
              "      <td>198.487077</td>\n",
              "    </tr>\n",
              "    <tr>\n",
              "      <th>Rhode Island</th>\n",
              "      <td>3.553571</td>\n",
              "      <td>404.070643</td>\n",
              "    </tr>\n",
              "    <tr>\n",
              "      <th>South Carolina</th>\n",
              "      <td>4.095238</td>\n",
              "      <td>201.945476</td>\n",
              "    </tr>\n",
              "    <tr>\n",
              "      <th>South Dakota</th>\n",
              "      <td>3.500000</td>\n",
              "      <td>109.630000</td>\n",
              "    </tr>\n",
              "    <tr>\n",
              "      <th>Tennessee</th>\n",
              "      <td>3.721311</td>\n",
              "      <td>167.551219</td>\n",
              "    </tr>\n",
              "    <tr>\n",
              "      <th>Texas</th>\n",
              "      <td>3.780711</td>\n",
              "      <td>172.779742</td>\n",
              "    </tr>\n",
              "    <tr>\n",
              "      <th>Utah</th>\n",
              "      <td>4.132075</td>\n",
              "      <td>211.699170</td>\n",
              "    </tr>\n",
              "    <tr>\n",
              "      <th>Vermont</th>\n",
              "      <td>4.545455</td>\n",
              "      <td>811.760909</td>\n",
              "    </tr>\n",
              "    <tr>\n",
              "      <th>Virginia</th>\n",
              "      <td>3.986607</td>\n",
              "      <td>315.342500</td>\n",
              "    </tr>\n",
              "    <tr>\n",
              "      <th>Washington</th>\n",
              "      <td>3.721344</td>\n",
              "      <td>273.994605</td>\n",
              "    </tr>\n",
              "    <tr>\n",
              "      <th>West Virginia</th>\n",
              "      <td>4.500000</td>\n",
              "      <td>302.456000</td>\n",
              "    </tr>\n",
              "    <tr>\n",
              "      <th>Wisconsin</th>\n",
              "      <td>4.209091</td>\n",
              "      <td>291.951000</td>\n",
              "    </tr>\n",
              "    <tr>\n",
              "      <th>Wyoming</th>\n",
              "      <td>4.000000</td>\n",
              "      <td>1603.136000</td>\n",
              "    </tr>\n",
              "  </tbody>\n",
              "</table>\n",
              "</div>"
            ],
            "text/plain": [
              "                      Quantity        Sales\n",
              "State                                      \n",
              "Alabama               4.196721   319.846557\n",
              "Arizona               3.848214   157.508933\n",
              "Arkansas              4.000000   194.635500\n",
              "California            3.831584   228.729451\n",
              "Colorado              3.807692   176.418231\n",
              "Connecticut           3.426829   163.223866\n",
              "Delaware              3.822917   285.948635\n",
              "District of Columbia  4.000000   286.502000\n",
              "Florida               3.600522   233.612815\n",
              "Georgia               3.831522   266.825217\n",
              "Idaho                 3.047619   208.689810\n",
              "Illinois              3.750000   162.939230\n",
              "Indiana               3.879195   359.431946\n",
              "Iowa                  3.733333   152.658667\n",
              "Kansas                3.083333   121.429583\n",
              "Kentucky              3.762590   263.250000\n",
              "Louisiana             3.714286   219.453095\n",
              "Maine                 4.375000   158.816250\n",
              "Maryland              4.000000   225.766886\n",
              "Massachusetts         3.637037   212.106919\n",
              "Michigan              3.709804   299.096525\n",
              "Minnesota             3.719101   335.541011\n",
              "Mississippi           4.169811   203.232830\n",
              "Missouri              3.818182   336.441667\n",
              "Montana               3.733333   372.623467\n",
              "Nebraska              3.578947   196.445526\n",
              "Nevada                4.307692   428.951333\n",
              "New Hampshire         4.703704   270.093481\n",
              "New Jersey            3.492308   275.110092\n",
              "New Mexico            4.081081   129.284378\n",
              "New York              3.744681   275.599531\n",
              "North Carolina        3.947791   223.305880\n",
              "North Dakota          4.285714   131.415714\n",
              "Ohio                  3.750533   166.861697\n",
              "Oklahoma              3.742424   298.233182\n",
              "Oregon                4.024194   140.573790\n",
              "Pennsylvania          3.667802   198.487077\n",
              "Rhode Island          3.553571   404.070643\n",
              "South Carolina        4.095238   201.945476\n",
              "South Dakota          3.500000   109.630000\n",
              "Tennessee             3.721311   167.551219\n",
              "Texas                 3.780711   172.779742\n",
              "Utah                  4.132075   211.699170\n",
              "Vermont               4.545455   811.760909\n",
              "Virginia              3.986607   315.342500\n",
              "Washington            3.721344   273.994605\n",
              "West Virginia         4.500000   302.456000\n",
              "Wisconsin             4.209091   291.951000\n",
              "Wyoming               4.000000  1603.136000"
            ]
          },
          "metadata": {},
          "execution_count": 11
        }
      ]
    },
    {
      "cell_type": "code",
      "metadata": {
        "colab": {
          "base_uri": "https://localhost:8080/"
        },
        "id": "e3cb4Reve_zD",
        "outputId": "a72925e0-b80a-45ef-a3e2-862e97b88fcb"
      },
      "source": [
        "df.groupby(\"Country\")[\"State\"].value_counts(normalize=True)\n",
        "# crosstab"
      ],
      "execution_count": null,
      "outputs": [
        {
          "output_type": "execute_result",
          "data": {
            "text/plain": [
              "Country        State               \n",
              "United States  California              0.200220\n",
              "               New York                0.112868\n",
              "               Texas                   0.098559\n",
              "               Pennsylvania            0.058735\n",
              "               Washington              0.050630\n",
              "               Illinois                0.049230\n",
              "               Ohio                    0.046928\n",
              "               Florida                 0.038323\n",
              "               Michigan                0.025515\n",
              "               North Carolina          0.024915\n",
              "               Arizona                 0.022413\n",
              "               Virginia                0.022413\n",
              "               Georgia                 0.018411\n",
              "               Tennessee               0.018311\n",
              "               Colorado                0.018211\n",
              "               Indiana                 0.014909\n",
              "               Kentucky                0.013908\n",
              "               Massachusetts           0.013508\n",
              "               New Jersey              0.013008\n",
              "               Oregon                  0.012407\n",
              "               Wisconsin               0.011007\n",
              "               Maryland                0.010506\n",
              "               Delaware                0.009606\n",
              "               Minnesota               0.008905\n",
              "               Connecticut             0.008205\n",
              "               Missouri                0.006604\n",
              "               Oklahoma                0.006604\n",
              "               Alabama                 0.006104\n",
              "               Arkansas                0.006004\n",
              "               Rhode Island            0.005603\n",
              "               Mississippi             0.005303\n",
              "               Utah                    0.005303\n",
              "               Louisiana               0.004203\n",
              "               South Carolina          0.004203\n",
              "               Nevada                  0.003902\n",
              "               Nebraska                0.003802\n",
              "               New Mexico              0.003702\n",
              "               Iowa                    0.003002\n",
              "               New Hampshire           0.002702\n",
              "               Kansas                  0.002401\n",
              "               Idaho                   0.002101\n",
              "               Montana                 0.001501\n",
              "               South Dakota            0.001201\n",
              "               Vermont                 0.001101\n",
              "               District of Columbia    0.001001\n",
              "               Maine                   0.000800\n",
              "               North Dakota            0.000700\n",
              "               West Virginia           0.000400\n",
              "               Wyoming                 0.000100\n",
              "Name: State, dtype: float64"
            ]
          },
          "metadata": {},
          "execution_count": 23
        }
      ]
    },
    {
      "cell_type": "code",
      "metadata": {
        "colab": {
          "base_uri": "https://localhost:8080/",
          "height": 1000
        },
        "id": "XhpGw_cvdw6L",
        "outputId": "2d68df8a-fac1-46ac-b9e9-7c08ed53108e"
      },
      "source": [
        "#Find mean after per state\n",
        "df.groupby(\"State\").mean()[['Quantity','Sales']]"
      ],
      "execution_count": null,
      "outputs": [
        {
          "output_type": "execute_result",
          "data": {
            "text/html": [
              "<div>\n",
              "<style scoped>\n",
              "    .dataframe tbody tr th:only-of-type {\n",
              "        vertical-align: middle;\n",
              "    }\n",
              "\n",
              "    .dataframe tbody tr th {\n",
              "        vertical-align: top;\n",
              "    }\n",
              "\n",
              "    .dataframe thead th {\n",
              "        text-align: right;\n",
              "    }\n",
              "</style>\n",
              "<table border=\"1\" class=\"dataframe\">\n",
              "  <thead>\n",
              "    <tr style=\"text-align: right;\">\n",
              "      <th></th>\n",
              "      <th>Quantity</th>\n",
              "      <th>Sales</th>\n",
              "    </tr>\n",
              "    <tr>\n",
              "      <th>State</th>\n",
              "      <th></th>\n",
              "      <th></th>\n",
              "    </tr>\n",
              "  </thead>\n",
              "  <tbody>\n",
              "    <tr>\n",
              "      <th>Alabama</th>\n",
              "      <td>4.196721</td>\n",
              "      <td>319.846557</td>\n",
              "    </tr>\n",
              "    <tr>\n",
              "      <th>Arizona</th>\n",
              "      <td>3.848214</td>\n",
              "      <td>157.508933</td>\n",
              "    </tr>\n",
              "    <tr>\n",
              "      <th>Arkansas</th>\n",
              "      <td>4.000000</td>\n",
              "      <td>194.635500</td>\n",
              "    </tr>\n",
              "    <tr>\n",
              "      <th>California</th>\n",
              "      <td>3.831584</td>\n",
              "      <td>228.729451</td>\n",
              "    </tr>\n",
              "    <tr>\n",
              "      <th>Colorado</th>\n",
              "      <td>3.807692</td>\n",
              "      <td>176.418231</td>\n",
              "    </tr>\n",
              "    <tr>\n",
              "      <th>Connecticut</th>\n",
              "      <td>3.426829</td>\n",
              "      <td>163.223866</td>\n",
              "    </tr>\n",
              "    <tr>\n",
              "      <th>Delaware</th>\n",
              "      <td>3.822917</td>\n",
              "      <td>285.948635</td>\n",
              "    </tr>\n",
              "    <tr>\n",
              "      <th>District of Columbia</th>\n",
              "      <td>4.000000</td>\n",
              "      <td>286.502000</td>\n",
              "    </tr>\n",
              "    <tr>\n",
              "      <th>Florida</th>\n",
              "      <td>3.600522</td>\n",
              "      <td>233.612815</td>\n",
              "    </tr>\n",
              "    <tr>\n",
              "      <th>Georgia</th>\n",
              "      <td>3.831522</td>\n",
              "      <td>266.825217</td>\n",
              "    </tr>\n",
              "    <tr>\n",
              "      <th>Idaho</th>\n",
              "      <td>3.047619</td>\n",
              "      <td>208.689810</td>\n",
              "    </tr>\n",
              "    <tr>\n",
              "      <th>Illinois</th>\n",
              "      <td>3.750000</td>\n",
              "      <td>162.939230</td>\n",
              "    </tr>\n",
              "    <tr>\n",
              "      <th>Indiana</th>\n",
              "      <td>3.879195</td>\n",
              "      <td>359.431946</td>\n",
              "    </tr>\n",
              "    <tr>\n",
              "      <th>Iowa</th>\n",
              "      <td>3.733333</td>\n",
              "      <td>152.658667</td>\n",
              "    </tr>\n",
              "    <tr>\n",
              "      <th>Kansas</th>\n",
              "      <td>3.083333</td>\n",
              "      <td>121.429583</td>\n",
              "    </tr>\n",
              "    <tr>\n",
              "      <th>Kentucky</th>\n",
              "      <td>3.762590</td>\n",
              "      <td>263.250000</td>\n",
              "    </tr>\n",
              "    <tr>\n",
              "      <th>Louisiana</th>\n",
              "      <td>3.714286</td>\n",
              "      <td>219.453095</td>\n",
              "    </tr>\n",
              "    <tr>\n",
              "      <th>Maine</th>\n",
              "      <td>4.375000</td>\n",
              "      <td>158.816250</td>\n",
              "    </tr>\n",
              "    <tr>\n",
              "      <th>Maryland</th>\n",
              "      <td>4.000000</td>\n",
              "      <td>225.766886</td>\n",
              "    </tr>\n",
              "    <tr>\n",
              "      <th>Massachusetts</th>\n",
              "      <td>3.637037</td>\n",
              "      <td>212.106919</td>\n",
              "    </tr>\n",
              "    <tr>\n",
              "      <th>Michigan</th>\n",
              "      <td>3.709804</td>\n",
              "      <td>299.096525</td>\n",
              "    </tr>\n",
              "    <tr>\n",
              "      <th>Minnesota</th>\n",
              "      <td>3.719101</td>\n",
              "      <td>335.541011</td>\n",
              "    </tr>\n",
              "    <tr>\n",
              "      <th>Mississippi</th>\n",
              "      <td>4.169811</td>\n",
              "      <td>203.232830</td>\n",
              "    </tr>\n",
              "    <tr>\n",
              "      <th>Missouri</th>\n",
              "      <td>3.818182</td>\n",
              "      <td>336.441667</td>\n",
              "    </tr>\n",
              "    <tr>\n",
              "      <th>Montana</th>\n",
              "      <td>3.733333</td>\n",
              "      <td>372.623467</td>\n",
              "    </tr>\n",
              "    <tr>\n",
              "      <th>Nebraska</th>\n",
              "      <td>3.578947</td>\n",
              "      <td>196.445526</td>\n",
              "    </tr>\n",
              "    <tr>\n",
              "      <th>Nevada</th>\n",
              "      <td>4.307692</td>\n",
              "      <td>428.951333</td>\n",
              "    </tr>\n",
              "    <tr>\n",
              "      <th>New Hampshire</th>\n",
              "      <td>4.703704</td>\n",
              "      <td>270.093481</td>\n",
              "    </tr>\n",
              "    <tr>\n",
              "      <th>New Jersey</th>\n",
              "      <td>3.492308</td>\n",
              "      <td>275.110092</td>\n",
              "    </tr>\n",
              "    <tr>\n",
              "      <th>New Mexico</th>\n",
              "      <td>4.081081</td>\n",
              "      <td>129.284378</td>\n",
              "    </tr>\n",
              "    <tr>\n",
              "      <th>New York</th>\n",
              "      <td>3.744681</td>\n",
              "      <td>275.599531</td>\n",
              "    </tr>\n",
              "    <tr>\n",
              "      <th>North Carolina</th>\n",
              "      <td>3.947791</td>\n",
              "      <td>223.305880</td>\n",
              "    </tr>\n",
              "    <tr>\n",
              "      <th>North Dakota</th>\n",
              "      <td>4.285714</td>\n",
              "      <td>131.415714</td>\n",
              "    </tr>\n",
              "    <tr>\n",
              "      <th>Ohio</th>\n",
              "      <td>3.750533</td>\n",
              "      <td>166.861697</td>\n",
              "    </tr>\n",
              "    <tr>\n",
              "      <th>Oklahoma</th>\n",
              "      <td>3.742424</td>\n",
              "      <td>298.233182</td>\n",
              "    </tr>\n",
              "    <tr>\n",
              "      <th>Oregon</th>\n",
              "      <td>4.024194</td>\n",
              "      <td>140.573790</td>\n",
              "    </tr>\n",
              "    <tr>\n",
              "      <th>Pennsylvania</th>\n",
              "      <td>3.667802</td>\n",
              "      <td>198.487077</td>\n",
              "    </tr>\n",
              "    <tr>\n",
              "      <th>Rhode Island</th>\n",
              "      <td>3.553571</td>\n",
              "      <td>404.070643</td>\n",
              "    </tr>\n",
              "    <tr>\n",
              "      <th>South Carolina</th>\n",
              "      <td>4.095238</td>\n",
              "      <td>201.945476</td>\n",
              "    </tr>\n",
              "    <tr>\n",
              "      <th>South Dakota</th>\n",
              "      <td>3.500000</td>\n",
              "      <td>109.630000</td>\n",
              "    </tr>\n",
              "    <tr>\n",
              "      <th>Tennessee</th>\n",
              "      <td>3.721311</td>\n",
              "      <td>167.551219</td>\n",
              "    </tr>\n",
              "    <tr>\n",
              "      <th>Texas</th>\n",
              "      <td>3.780711</td>\n",
              "      <td>172.779742</td>\n",
              "    </tr>\n",
              "    <tr>\n",
              "      <th>Utah</th>\n",
              "      <td>4.132075</td>\n",
              "      <td>211.699170</td>\n",
              "    </tr>\n",
              "    <tr>\n",
              "      <th>Vermont</th>\n",
              "      <td>4.545455</td>\n",
              "      <td>811.760909</td>\n",
              "    </tr>\n",
              "    <tr>\n",
              "      <th>Virginia</th>\n",
              "      <td>3.986607</td>\n",
              "      <td>315.342500</td>\n",
              "    </tr>\n",
              "    <tr>\n",
              "      <th>Washington</th>\n",
              "      <td>3.721344</td>\n",
              "      <td>273.994605</td>\n",
              "    </tr>\n",
              "    <tr>\n",
              "      <th>West Virginia</th>\n",
              "      <td>4.500000</td>\n",
              "      <td>302.456000</td>\n",
              "    </tr>\n",
              "    <tr>\n",
              "      <th>Wisconsin</th>\n",
              "      <td>4.209091</td>\n",
              "      <td>291.951000</td>\n",
              "    </tr>\n",
              "    <tr>\n",
              "      <th>Wyoming</th>\n",
              "      <td>4.000000</td>\n",
              "      <td>1603.136000</td>\n",
              "    </tr>\n",
              "  </tbody>\n",
              "</table>\n",
              "</div>"
            ],
            "text/plain": [
              "                      Quantity        Sales\n",
              "State                                      \n",
              "Alabama               4.196721   319.846557\n",
              "Arizona               3.848214   157.508933\n",
              "Arkansas              4.000000   194.635500\n",
              "California            3.831584   228.729451\n",
              "Colorado              3.807692   176.418231\n",
              "Connecticut           3.426829   163.223866\n",
              "Delaware              3.822917   285.948635\n",
              "District of Columbia  4.000000   286.502000\n",
              "Florida               3.600522   233.612815\n",
              "Georgia               3.831522   266.825217\n",
              "Idaho                 3.047619   208.689810\n",
              "Illinois              3.750000   162.939230\n",
              "Indiana               3.879195   359.431946\n",
              "Iowa                  3.733333   152.658667\n",
              "Kansas                3.083333   121.429583\n",
              "Kentucky              3.762590   263.250000\n",
              "Louisiana             3.714286   219.453095\n",
              "Maine                 4.375000   158.816250\n",
              "Maryland              4.000000   225.766886\n",
              "Massachusetts         3.637037   212.106919\n",
              "Michigan              3.709804   299.096525\n",
              "Minnesota             3.719101   335.541011\n",
              "Mississippi           4.169811   203.232830\n",
              "Missouri              3.818182   336.441667\n",
              "Montana               3.733333   372.623467\n",
              "Nebraska              3.578947   196.445526\n",
              "Nevada                4.307692   428.951333\n",
              "New Hampshire         4.703704   270.093481\n",
              "New Jersey            3.492308   275.110092\n",
              "New Mexico            4.081081   129.284378\n",
              "New York              3.744681   275.599531\n",
              "North Carolina        3.947791   223.305880\n",
              "North Dakota          4.285714   131.415714\n",
              "Ohio                  3.750533   166.861697\n",
              "Oklahoma              3.742424   298.233182\n",
              "Oregon                4.024194   140.573790\n",
              "Pennsylvania          3.667802   198.487077\n",
              "Rhode Island          3.553571   404.070643\n",
              "South Carolina        4.095238   201.945476\n",
              "South Dakota          3.500000   109.630000\n",
              "Tennessee             3.721311   167.551219\n",
              "Texas                 3.780711   172.779742\n",
              "Utah                  4.132075   211.699170\n",
              "Vermont               4.545455   811.760909\n",
              "Virginia              3.986607   315.342500\n",
              "Washington            3.721344   273.994605\n",
              "West Virginia         4.500000   302.456000\n",
              "Wisconsin             4.209091   291.951000\n",
              "Wyoming               4.000000  1603.136000"
            ]
          },
          "metadata": {},
          "execution_count": 16
        }
      ]
    },
    {
      "cell_type": "markdown",
      "metadata": {
        "id": "Ez_Gc1nKpxV5"
      },
      "source": [
        "![image.png](data:image/png;base64,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)"
      ]
    },
    {
      "cell_type": "code",
      "metadata": {
        "colab": {
          "base_uri": "https://localhost:8080/",
          "height": 542
        },
        "id": "y-CnGH1Ub6qK",
        "outputId": "e7ecdc47-76e5-4eb2-c12f-a410a80d767a"
      },
      "source": [
        "df"
      ],
      "execution_count": null,
      "outputs": [
        {
          "output_type": "execute_result",
          "data": {
            "text/html": [
              "<div>\n",
              "<style scoped>\n",
              "    .dataframe tbody tr th:only-of-type {\n",
              "        vertical-align: middle;\n",
              "    }\n",
              "\n",
              "    .dataframe tbody tr th {\n",
              "        vertical-align: top;\n",
              "    }\n",
              "\n",
              "    .dataframe thead th {\n",
              "        text-align: right;\n",
              "    }\n",
              "</style>\n",
              "<table border=\"1\" class=\"dataframe\">\n",
              "  <thead>\n",
              "    <tr style=\"text-align: right;\">\n",
              "      <th></th>\n",
              "      <th>Row ID</th>\n",
              "      <th>Order ID</th>\n",
              "      <th>Order Date</th>\n",
              "      <th>Ship Date</th>\n",
              "      <th>Ship Mode</th>\n",
              "      <th>Customer ID</th>\n",
              "      <th>Customer Name</th>\n",
              "      <th>Segment</th>\n",
              "      <th>Country</th>\n",
              "      <th>City</th>\n",
              "      <th>State</th>\n",
              "      <th>Postal Code</th>\n",
              "      <th>Region</th>\n",
              "      <th>Product ID</th>\n",
              "      <th>Category</th>\n",
              "      <th>Sub-Category</th>\n",
              "      <th>Product Name</th>\n",
              "      <th>Sales</th>\n",
              "      <th>Quantity</th>\n",
              "      <th>Discount</th>\n",
              "      <th>Profit</th>\n",
              "    </tr>\n",
              "  </thead>\n",
              "  <tbody>\n",
              "    <tr>\n",
              "      <th>0</th>\n",
              "      <td>1</td>\n",
              "      <td>CA-2016-152156</td>\n",
              "      <td>2016-11-08</td>\n",
              "      <td>2016-11-11</td>\n",
              "      <td>Second Class</td>\n",
              "      <td>CG-12520</td>\n",
              "      <td>Claire Gute</td>\n",
              "      <td>Consumer</td>\n",
              "      <td>United States</td>\n",
              "      <td>Henderson</td>\n",
              "      <td>Kentucky</td>\n",
              "      <td>42420</td>\n",
              "      <td>South</td>\n",
              "      <td>FUR-BO-10001798</td>\n",
              "      <td>Furniture</td>\n",
              "      <td>Bookcases</td>\n",
              "      <td>Bush Somerset Collection Bookcase</td>\n",
              "      <td>261.9600</td>\n",
              "      <td>2</td>\n",
              "      <td>0.00</td>\n",
              "      <td>41.9136</td>\n",
              "    </tr>\n",
              "    <tr>\n",
              "      <th>1</th>\n",
              "      <td>2</td>\n",
              "      <td>CA-2016-152156</td>\n",
              "      <td>2016-11-08</td>\n",
              "      <td>2016-11-11</td>\n",
              "      <td>Second Class</td>\n",
              "      <td>CG-12520</td>\n",
              "      <td>Claire Gute</td>\n",
              "      <td>Consumer</td>\n",
              "      <td>United States</td>\n",
              "      <td>Henderson</td>\n",
              "      <td>Kentucky</td>\n",
              "      <td>42420</td>\n",
              "      <td>South</td>\n",
              "      <td>FUR-CH-10000454</td>\n",
              "      <td>Furniture</td>\n",
              "      <td>Chairs</td>\n",
              "      <td>Hon Deluxe Fabric Upholstered Stacking Chairs,...</td>\n",
              "      <td>731.9400</td>\n",
              "      <td>3</td>\n",
              "      <td>0.00</td>\n",
              "      <td>219.5820</td>\n",
              "    </tr>\n",
              "    <tr>\n",
              "      <th>2</th>\n",
              "      <td>3</td>\n",
              "      <td>CA-2016-138688</td>\n",
              "      <td>2016-06-12</td>\n",
              "      <td>2016-06-16</td>\n",
              "      <td>Second Class</td>\n",
              "      <td>DV-13045</td>\n",
              "      <td>Darrin Van Huff</td>\n",
              "      <td>Corporate</td>\n",
              "      <td>United States</td>\n",
              "      <td>Los Angeles</td>\n",
              "      <td>California</td>\n",
              "      <td>90036</td>\n",
              "      <td>West</td>\n",
              "      <td>OFF-LA-10000240</td>\n",
              "      <td>Office Supplies</td>\n",
              "      <td>Labels</td>\n",
              "      <td>Self-Adhesive Address Labels for Typewriters b...</td>\n",
              "      <td>14.6200</td>\n",
              "      <td>2</td>\n",
              "      <td>0.00</td>\n",
              "      <td>6.8714</td>\n",
              "    </tr>\n",
              "    <tr>\n",
              "      <th>3</th>\n",
              "      <td>4</td>\n",
              "      <td>US-2015-108966</td>\n",
              "      <td>2015-10-11</td>\n",
              "      <td>2015-10-18</td>\n",
              "      <td>Standard Class</td>\n",
              "      <td>SO-20335</td>\n",
              "      <td>Sean O'Donnell</td>\n",
              "      <td>Consumer</td>\n",
              "      <td>United States</td>\n",
              "      <td>Fort Lauderdale</td>\n",
              "      <td>Florida</td>\n",
              "      <td>33311</td>\n",
              "      <td>South</td>\n",
              "      <td>FUR-TA-10000577</td>\n",
              "      <td>Furniture</td>\n",
              "      <td>Tables</td>\n",
              "      <td>Bretford CR4500 Series Slim Rectangular Table</td>\n",
              "      <td>957.5775</td>\n",
              "      <td>5</td>\n",
              "      <td>0.45</td>\n",
              "      <td>-383.0310</td>\n",
              "    </tr>\n",
              "    <tr>\n",
              "      <th>4</th>\n",
              "      <td>5</td>\n",
              "      <td>US-2015-108966</td>\n",
              "      <td>2015-10-11</td>\n",
              "      <td>2015-10-18</td>\n",
              "      <td>Standard Class</td>\n",
              "      <td>SO-20335</td>\n",
              "      <td>Sean O'Donnell</td>\n",
              "      <td>Consumer</td>\n",
              "      <td>United States</td>\n",
              "      <td>Fort Lauderdale</td>\n",
              "      <td>Florida</td>\n",
              "      <td>33311</td>\n",
              "      <td>South</td>\n",
              "      <td>OFF-ST-10000760</td>\n",
              "      <td>Office Supplies</td>\n",
              "      <td>Storage</td>\n",
              "      <td>Eldon Fold 'N Roll Cart System</td>\n",
              "      <td>22.3680</td>\n",
              "      <td>2</td>\n",
              "      <td>0.20</td>\n",
              "      <td>2.5164</td>\n",
              "    </tr>\n",
              "  </tbody>\n",
              "</table>\n",
              "</div>"
            ],
            "text/plain": [
              "   Row ID        Order ID Order Date  ... Quantity Discount    Profit\n",
              "0       1  CA-2016-152156 2016-11-08  ...        2     0.00   41.9136\n",
              "1       2  CA-2016-152156 2016-11-08  ...        3     0.00  219.5820\n",
              "2       3  CA-2016-138688 2016-06-12  ...        2     0.00    6.8714\n",
              "3       4  US-2015-108966 2015-10-11  ...        5     0.45 -383.0310\n",
              "4       5  US-2015-108966 2015-10-11  ...        2     0.20    2.5164\n",
              "\n",
              "[5 rows x 21 columns]"
            ]
          },
          "metadata": {},
          "execution_count": 9
        }
      ]
    },
    {
      "cell_type": "markdown",
      "metadata": {
        "id": "uIOLOmnhcsEG"
      },
      "source": [
        "####**Task 2:**\n",
        "What is the median profit gained between the years 2014 and 2018?\n",
        "\n",
        "**Median**"
      ]
    },
    {
      "cell_type": "code",
      "metadata": {
        "id": "H8cTtLg-h4ah",
        "colab": {
          "base_uri": "https://localhost:8080/"
        },
        "outputId": "56c0104c-d686-46a8-af64-d63aae6545d2"
      },
      "source": [
        "df['Profit'].median()"
      ],
      "execution_count": null,
      "outputs": [
        {
          "output_type": "execute_result",
          "data": {
            "text/plain": [
              "8.666499999999996"
            ]
          },
          "metadata": {},
          "execution_count": 13
        }
      ]
    },
    {
      "cell_type": "code",
      "metadata": {
        "colab": {
          "base_uri": "https://localhost:8080/"
        },
        "id": "t49zxomufPyW",
        "outputId": "9b922b55-08b6-4415-cf0f-9a78ec9ca6ff"
      },
      "source": [
        "#Using method from Numpy\n",
        "np.median(df.Profit)"
      ],
      "execution_count": null,
      "outputs": [
        {
          "output_type": "execute_result",
          "data": {
            "text/plain": [
              "8.666499999999996"
            ]
          },
          "metadata": {},
          "execution_count": 14
        }
      ]
    },
    {
      "cell_type": "markdown",
      "metadata": {
        "id": "NFyRKFUrh4zT"
      },
      "source": [
        "####**Task 3:**\n",
        "\n",
        "Find out the most sold product in the US\n",
        "\n",
        "**Mode**"
      ]
    },
    {
      "cell_type": "code",
      "metadata": {
        "id": "iOG_qejyX706",
        "colab": {
          "base_uri": "https://localhost:8080/"
        },
        "outputId": "ff102e98-d8d4-433a-d977-8c40cd47ad6c"
      },
      "source": [
        "df['Product Name'].mode()"
      ],
      "execution_count": null,
      "outputs": [
        {
          "output_type": "execute_result",
          "data": {
            "text/plain": [
              "0    Staple envelope\n",
              "dtype: object"
            ]
          },
          "metadata": {},
          "execution_count": 15
        }
      ]
    },
    {
      "cell_type": "markdown",
      "metadata": {
        "id": "jg2MGDlu3Uhc"
      },
      "source": [
        "###**Mean Vs. Median Vs. Mode**"
      ]
    },
    {
      "cell_type": "markdown",
      "metadata": {
        "id": "U9u_YWeAa38y"
      },
      "source": [
        "####**Dataset Description**\n",
        "\n",
        "The data set consists of Placement data of students in a Riverview Engineering College. It includes secondary and higher secondary school percentage and specialization. It also includes degree specialization, type and Work experience and salary offers to the placed students. \n",
        "\n",
        "Perform Descriptive Statistics on it to extract useful insights"
      ]
    },
    {
      "cell_type": "code",
      "metadata": {
        "id": "ddcI-Ndl3Tte",
        "colab": {
          "base_uri": "https://localhost:8080/"
        },
        "outputId": "78904abd-5391-4084-cded-2d454e3f9516"
      },
      "source": [
        "!wget https://www.dropbox.com/s/755hnawo000aeaw/Placement_Data_Full_Class.csv"
      ],
      "execution_count": null,
      "outputs": [
        {
          "output_type": "stream",
          "name": "stdout",
          "text": [
            "--2021-11-06 05:03:35--  https://www.dropbox.com/s/755hnawo000aeaw/Placement_Data_Full_Class.csv\n",
            "Resolving www.dropbox.com (www.dropbox.com)... 162.125.5.18, 2620:100:601d:18::a27d:512\n",
            "Connecting to www.dropbox.com (www.dropbox.com)|162.125.5.18|:443... connected.\n",
            "HTTP request sent, awaiting response... 301 Moved Permanently\n",
            "Location: /s/raw/755hnawo000aeaw/Placement_Data_Full_Class.csv [following]\n",
            "--2021-11-06 05:03:36--  https://www.dropbox.com/s/raw/755hnawo000aeaw/Placement_Data_Full_Class.csv\n",
            "Reusing existing connection to www.dropbox.com:443.\n",
            "HTTP request sent, awaiting response... 302 Found\n",
            "Location: https://uc16ffe05f4758076ebd86eec8c9.dl.dropboxusercontent.com/cd/0/inline/BZboJ7Ss2ogms9HSksoWw6YsOUOAKqZR7oS8c--jSVUQIHc48YarIDrQM_-Qkim7G8EW404YT-3GDbVctik2bfCKvZxThSkUvL6eUAkTZfMAYP9RZ8dMj0Yb0cvum1fd10E-wWZ6RiJ2wu193pOoM6aP/file# [following]\n",
            "--2021-11-06 05:03:36--  https://uc16ffe05f4758076ebd86eec8c9.dl.dropboxusercontent.com/cd/0/inline/BZboJ7Ss2ogms9HSksoWw6YsOUOAKqZR7oS8c--jSVUQIHc48YarIDrQM_-Qkim7G8EW404YT-3GDbVctik2bfCKvZxThSkUvL6eUAkTZfMAYP9RZ8dMj0Yb0cvum1fd10E-wWZ6RiJ2wu193pOoM6aP/file\n",
            "Resolving uc16ffe05f4758076ebd86eec8c9.dl.dropboxusercontent.com (uc16ffe05f4758076ebd86eec8c9.dl.dropboxusercontent.com)... 162.125.5.15, 2620:100:601d:15::a27d:50f\n",
            "Connecting to uc16ffe05f4758076ebd86eec8c9.dl.dropboxusercontent.com (uc16ffe05f4758076ebd86eec8c9.dl.dropboxusercontent.com)|162.125.5.15|:443... connected.\n",
            "HTTP request sent, awaiting response... 200 OK\n",
            "Length: 19712 (19K) [text/plain]\n",
            "Saving to: ‘Placement_Data_Full_Class.csv.1’\n",
            "\n",
            "Placement_Data_Full 100%[===================>]  19.25K  --.-KB/s    in 0.02s   \n",
            "\n",
            "2021-11-06 05:03:36 (1.15 MB/s) - ‘Placement_Data_Full_Class.csv.1’ saved [19712/19712]\n",
            "\n"
          ]
        }
      ]
    },
    {
      "cell_type": "code",
      "metadata": {
        "id": "SKGhCr4Q3dT6",
        "colab": {
          "base_uri": "https://localhost:8080/",
          "height": 203
        },
        "outputId": "d56d3753-7625-4a81-f256-f659507f6fee"
      },
      "source": [
        "campus = pd.read_csv('Placement_Data_Full_Class.csv.1')\n",
        "campus.tail()"
      ],
      "execution_count": null,
      "outputs": [
        {
          "output_type": "execute_result",
          "data": {
            "text/html": [
              "<div>\n",
              "<style scoped>\n",
              "    .dataframe tbody tr th:only-of-type {\n",
              "        vertical-align: middle;\n",
              "    }\n",
              "\n",
              "    .dataframe tbody tr th {\n",
              "        vertical-align: top;\n",
              "    }\n",
              "\n",
              "    .dataframe thead th {\n",
              "        text-align: right;\n",
              "    }\n",
              "</style>\n",
              "<table border=\"1\" class=\"dataframe\">\n",
              "  <thead>\n",
              "    <tr style=\"text-align: right;\">\n",
              "      <th></th>\n",
              "      <th>sl_no</th>\n",
              "      <th>gender</th>\n",
              "      <th>ssc_p</th>\n",
              "      <th>ssc_b</th>\n",
              "      <th>hsc_p</th>\n",
              "      <th>hsc_b</th>\n",
              "      <th>hsc_s</th>\n",
              "      <th>degree_p</th>\n",
              "      <th>degree_t</th>\n",
              "      <th>workex</th>\n",
              "      <th>etest_p</th>\n",
              "      <th>specialisation</th>\n",
              "      <th>mba_p</th>\n",
              "      <th>status</th>\n",
              "      <th>salary</th>\n",
              "    </tr>\n",
              "  </thead>\n",
              "  <tbody>\n",
              "    <tr>\n",
              "      <th>210</th>\n",
              "      <td>211</td>\n",
              "      <td>M</td>\n",
              "      <td>80.6</td>\n",
              "      <td>Others</td>\n",
              "      <td>82.0</td>\n",
              "      <td>Others</td>\n",
              "      <td>Commerce</td>\n",
              "      <td>77.6</td>\n",
              "      <td>Comm&amp;Mgmt</td>\n",
              "      <td>No</td>\n",
              "      <td>91.0</td>\n",
              "      <td>Mkt&amp;Fin</td>\n",
              "      <td>74.49</td>\n",
              "      <td>Placed</td>\n",
              "      <td>400000.0</td>\n",
              "    </tr>\n",
              "    <tr>\n",
              "      <th>211</th>\n",
              "      <td>212</td>\n",
              "      <td>M</td>\n",
              "      <td>58.0</td>\n",
              "      <td>Others</td>\n",
              "      <td>60.0</td>\n",
              "      <td>Others</td>\n",
              "      <td>Science</td>\n",
              "      <td>72.0</td>\n",
              "      <td>Sci&amp;Tech</td>\n",
              "      <td>No</td>\n",
              "      <td>74.0</td>\n",
              "      <td>Mkt&amp;Fin</td>\n",
              "      <td>53.62</td>\n",
              "      <td>Placed</td>\n",
              "      <td>275000.0</td>\n",
              "    </tr>\n",
              "    <tr>\n",
              "      <th>212</th>\n",
              "      <td>213</td>\n",
              "      <td>M</td>\n",
              "      <td>67.0</td>\n",
              "      <td>Others</td>\n",
              "      <td>67.0</td>\n",
              "      <td>Others</td>\n",
              "      <td>Commerce</td>\n",
              "      <td>73.0</td>\n",
              "      <td>Comm&amp;Mgmt</td>\n",
              "      <td>Yes</td>\n",
              "      <td>59.0</td>\n",
              "      <td>Mkt&amp;Fin</td>\n",
              "      <td>69.72</td>\n",
              "      <td>Placed</td>\n",
              "      <td>295000.0</td>\n",
              "    </tr>\n",
              "    <tr>\n",
              "      <th>213</th>\n",
              "      <td>214</td>\n",
              "      <td>F</td>\n",
              "      <td>74.0</td>\n",
              "      <td>Others</td>\n",
              "      <td>66.0</td>\n",
              "      <td>Others</td>\n",
              "      <td>Commerce</td>\n",
              "      <td>58.0</td>\n",
              "      <td>Comm&amp;Mgmt</td>\n",
              "      <td>No</td>\n",
              "      <td>70.0</td>\n",
              "      <td>Mkt&amp;HR</td>\n",
              "      <td>60.23</td>\n",
              "      <td>Placed</td>\n",
              "      <td>204000.0</td>\n",
              "    </tr>\n",
              "    <tr>\n",
              "      <th>214</th>\n",
              "      <td>215</td>\n",
              "      <td>M</td>\n",
              "      <td>62.0</td>\n",
              "      <td>Central</td>\n",
              "      <td>58.0</td>\n",
              "      <td>Others</td>\n",
              "      <td>Science</td>\n",
              "      <td>53.0</td>\n",
              "      <td>Comm&amp;Mgmt</td>\n",
              "      <td>No</td>\n",
              "      <td>89.0</td>\n",
              "      <td>Mkt&amp;HR</td>\n",
              "      <td>60.22</td>\n",
              "      <td>Not Placed</td>\n",
              "      <td>NaN</td>\n",
              "    </tr>\n",
              "  </tbody>\n",
              "</table>\n",
              "</div>"
            ],
            "text/plain": [
              "     sl_no gender  ssc_p    ssc_b  ...  specialisation  mba_p      status    salary\n",
              "210    211      M   80.6   Others  ...         Mkt&Fin  74.49      Placed  400000.0\n",
              "211    212      M   58.0   Others  ...         Mkt&Fin  53.62      Placed  275000.0\n",
              "212    213      M   67.0   Others  ...         Mkt&Fin  69.72      Placed  295000.0\n",
              "213    214      F   74.0   Others  ...          Mkt&HR  60.23      Placed  204000.0\n",
              "214    215      M   62.0  Central  ...          Mkt&HR  60.22  Not Placed       NaN\n",
              "\n",
              "[5 rows x 15 columns]"
            ]
          },
          "metadata": {},
          "execution_count": 25
        }
      ]
    },
    {
      "cell_type": "code",
      "metadata": {
        "id": "3BSdtsoO3dZc",
        "colab": {
          "base_uri": "https://localhost:8080/"
        },
        "outputId": "da2381f3-e407-4756-b1af-de7d3fcb3a6b"
      },
      "source": [
        "campus['salary'].mean()"
      ],
      "execution_count": null,
      "outputs": [
        {
          "output_type": "execute_result",
          "data": {
            "text/plain": [
              "288655.4054054054"
            ]
          },
          "metadata": {},
          "execution_count": 45
        }
      ]
    },
    {
      "cell_type": "markdown",
      "metadata": {
        "id": "sqpw5kC3bjHE"
      },
      "source": [
        "___\n",
        "**Observations:**\n",
        "- The average salary offered to students in Riverview Engineering College is **5,04,743** (5 lacs approx.) \n",
        "___"
      ]
    },
    {
      "cell_type": "code",
      "metadata": {
        "id": "Uq5DhkV53dQh",
        "colab": {
          "base_uri": "https://localhost:8080/"
        },
        "outputId": "4457b112-5f5c-41de-fbd9-7f8c876b3341"
      },
      "source": [
        "campus['salary'].median()"
      ],
      "execution_count": null,
      "outputs": [
        {
          "output_type": "execute_result",
          "data": {
            "text/plain": [
              "265000.0"
            ]
          },
          "metadata": {},
          "execution_count": 46
        }
      ]
    },
    {
      "cell_type": "markdown",
      "metadata": {
        "id": "VGjLoKsgb5KU"
      },
      "source": [
        "___\n",
        "**Observations:**\n",
        "- The median salary is **2,65,000** (2 lac & 65 thousand), which is quite less than the average salary offered to students\n",
        "- From this, we can understand how calculating average can be misleading \n",
        "- We can assume that this is happening because there are outliers in the dataset, which means that **one or two students in the college have been offered a salary much greater than the average students**, which is quite common in every college.\n",
        "___"
      ]
    },
    {
      "cell_type": "markdown",
      "metadata": {
        "id": "_5WSX2TjdN90"
      },
      "source": [
        "Let us check the maximum salary offered to verify our assumption"
      ]
    },
    {
      "cell_type": "code",
      "metadata": {
        "id": "kn56p_ea3yI2",
        "colab": {
          "base_uri": "https://localhost:8080/"
        },
        "outputId": "9fdde59d-d6a2-45e9-a636-1d06e5381c51"
      },
      "source": [
        "campus['salary'].max()"
      ],
      "execution_count": null,
      "outputs": [
        {
          "output_type": "execute_result",
          "data": {
            "text/plain": [
              "940000.0"
            ]
          },
          "metadata": {},
          "execution_count": 47
        }
      ]
    },
    {
      "cell_type": "markdown",
      "metadata": {
        "id": "e90FNEbNdZ_h"
      },
      "source": [
        "___\n",
        "**Observations:**\n",
        "- From above, you can see that the maximum salary offered to a student is **10,000,000** (1 Crore or 10 Million)\n",
        "- This is because the average salary is much more than the median salary offered\n",
        "___"
      ]
    },
    {
      "cell_type": "code",
      "metadata": {
        "id": "3taa5Kx43udu",
        "colab": {
          "base_uri": "https://localhost:8080/"
        },
        "outputId": "052d45de-7824-477c-c5e8-535bae29cb60"
      },
      "source": [
        "campus['salary'].mode()"
      ],
      "execution_count": null,
      "outputs": [
        {
          "output_type": "execute_result",
          "data": {
            "text/plain": [
              "0    300000.0\n",
              "dtype: float64"
            ]
          },
          "metadata": {},
          "execution_count": 48
        }
      ]
    },
    {
      "cell_type": "markdown",
      "metadata": {
        "id": "o8_cNyBKd_xn"
      },
      "source": [
        "___\n",
        "**Observation:**\n",
        "- From above, we can see that the most of the students received a salary of about **3,00,000** (3 lac)\n",
        "___"
      ]
    },
    {
      "cell_type": "markdown",
      "metadata": {
        "id": "7zPKqnXxjdHy"
      },
      "source": [
        "##**Part 3: Data Types**\n",
        "\n"
      ]
    },
    {
      "cell_type": "markdown",
      "metadata": {
        "id": "egOv8WTtjdHz"
      },
      "source": [
        "###**Qualitative Data & Quantitative Data**"
      ]
    },
    {
      "cell_type": "code",
      "metadata": {
        "colab": {
          "base_uri": "https://localhost:8080/",
          "height": 286
        },
        "id": "RZX_PE0qjdH1",
        "outputId": "7e1d3c11-ce58-46fc-f6ef-284cc5535ac5"
      },
      "source": [
        "import seaborn as sns\n",
        "import matplotlib.pyplot as plt\n",
        "sns.set()\n",
        "\n",
        "sns.barplot(x = 'Region', y = 'Sales', data = df, ci = None)\n",
        "plt.xlabel('Region: A Qualitative Data')\n",
        "plt.ylabel('Sales: Quantitative Data')\n",
        "\n",
        "plt.show()"
      ],
      "execution_count": null,
      "outputs": [
        {
          "output_type": "display_data",
          "data": {
            "image/png": "[encoded data removed]",
            "text/plain": [
              "<Figure size 432x288 with 1 Axes>"
            ]
          },
          "metadata": {}
        }
      ]
    },
    {
      "cell_type": "code",
      "metadata": {
        "colab": {
          "base_uri": "https://localhost:8080/"
        },
        "id": "GteFVuxhsuOC",
        "outputId": "53de8b30-8cf3-490a-e5a1-7c894f3a2805"
      },
      "source": [
        "df.groupby(\"Region\")[\"Sales\"].mean()"
      ],
      "execution_count": null,
      "outputs": [
        {
          "output_type": "execute_result",
          "data": {
            "text/plain": [
              "Region\n",
              "Central    215.772661\n",
              "East       238.336110\n",
              "South      241.803645\n",
              "West       226.493233\n",
              "Name: Sales, dtype: float64"
            ]
          },
          "metadata": {},
          "execution_count": 27
        }
      ]
    },
    {
      "cell_type": "markdown",
      "metadata": {
        "id": "M21yytmImdpE"
      },
      "source": [
        "**Observation:** \n",
        "\n",
        "\n",
        "*   Data represented in the form of Categories (X-axis) - Qualitative Data\n",
        "*   Data represented using continuous numrical values (Y-axis) - Quantitative Data\n",
        "\n",
        "\n"
      ]
    },
    {
      "cell_type": "markdown",
      "metadata": {
        "id": "FcpVYup2jdH4"
      },
      "source": [
        "###**Qualitative Data**\n",
        "- Nominal\n",
        "- Ordinal    \n"
      ]
    },
    {
      "cell_type": "markdown",
      "metadata": {
        "id": "5cP3R8CyjdH5"
      },
      "source": [
        "####**Nominal Data**"
      ]
    },
    {
      "cell_type": "code",
      "metadata": {
        "colab": {
          "base_uri": "https://localhost:8080/",
          "height": 203
        },
        "id": "BVOQLLRnjdH6",
        "outputId": "a8e90406-839c-4202-ac0b-e1009f7aef59"
      },
      "source": [
        "df_new = pd.DataFrame(df['Sub-Category'])\n",
        "df_new.head()"
      ],
      "execution_count": null,
      "outputs": [
        {
          "output_type": "execute_result",
          "data": {
            "text/html": [
              "<div>\n",
              "<style scoped>\n",
              "    .dataframe tbody tr th:only-of-type {\n",
              "        vertical-align: middle;\n",
              "    }\n",
              "\n",
              "    .dataframe tbody tr th {\n",
              "        vertical-align: top;\n",
              "    }\n",
              "\n",
              "    .dataframe thead th {\n",
              "        text-align: right;\n",
              "    }\n",
              "</style>\n",
              "<table border=\"1\" class=\"dataframe\">\n",
              "  <thead>\n",
              "    <tr style=\"text-align: right;\">\n",
              "      <th></th>\n",
              "      <th>Sub-Category</th>\n",
              "    </tr>\n",
              "  </thead>\n",
              "  <tbody>\n",
              "    <tr>\n",
              "      <th>0</th>\n",
              "      <td>Bookcases</td>\n",
              "    </tr>\n",
              "    <tr>\n",
              "      <th>1</th>\n",
              "      <td>Chairs</td>\n",
              "    </tr>\n",
              "    <tr>\n",
              "      <th>2</th>\n",
              "      <td>Labels</td>\n",
              "    </tr>\n",
              "    <tr>\n",
              "      <th>3</th>\n",
              "      <td>Tables</td>\n",
              "    </tr>\n",
              "    <tr>\n",
              "      <th>4</th>\n",
              "      <td>Storage</td>\n",
              "    </tr>\n",
              "  </tbody>\n",
              "</table>\n",
              "</div>"
            ],
            "text/plain": [
              "  Sub-Category\n",
              "0    Bookcases\n",
              "1       Chairs\n",
              "2       Labels\n",
              "3       Tables\n",
              "4      Storage"
            ]
          },
          "metadata": {},
          "execution_count": 28
        }
      ]
    },
    {
      "cell_type": "markdown",
      "metadata": {
        "id": "UOOoMd_3m9-S"
      },
      "source": [
        "**Observation:** Distinct types of furniture such as *Chairs* or *Tables*, hence Nominal Data."
      ]
    },
    {
      "cell_type": "markdown",
      "metadata": {
        "id": "U9f5dHYXjdH7"
      },
      "source": [
        "####**Ordinal Data**"
      ]
    },
    {
      "cell_type": "code",
      "metadata": {
        "colab": {
          "base_uri": "https://localhost:8080/",
          "height": 206
        },
        "id": "KhivAGbIjdH8",
        "outputId": "5e373d3a-962f-4f96-d72b-b4f0c2a040ed"
      },
      "source": [
        "df_new = pd.DataFrame(df[['Customer ID', 'Ship Mode']])\n",
        "df_new.head()"
      ],
      "execution_count": null,
      "outputs": [
        {
          "output_type": "execute_result",
          "data": {
            "text/html": [
              "<div>\n",
              "<style scoped>\n",
              "    .dataframe tbody tr th:only-of-type {\n",
              "        vertical-align: middle;\n",
              "    }\n",
              "\n",
              "    .dataframe tbody tr th {\n",
              "        vertical-align: top;\n",
              "    }\n",
              "\n",
              "    .dataframe thead th {\n",
              "        text-align: right;\n",
              "    }\n",
              "</style>\n",
              "<table border=\"1\" class=\"dataframe\">\n",
              "  <thead>\n",
              "    <tr style=\"text-align: right;\">\n",
              "      <th></th>\n",
              "      <th>Customer ID</th>\n",
              "      <th>Ship Mode</th>\n",
              "    </tr>\n",
              "  </thead>\n",
              "  <tbody>\n",
              "    <tr>\n",
              "      <th>0</th>\n",
              "      <td>CG-12520</td>\n",
              "      <td>Second Class</td>\n",
              "    </tr>\n",
              "    <tr>\n",
              "      <th>1</th>\n",
              "      <td>CG-12520</td>\n",
              "      <td>Second Class</td>\n",
              "    </tr>\n",
              "    <tr>\n",
              "      <th>2</th>\n",
              "      <td>DV-13045</td>\n",
              "      <td>Second Class</td>\n",
              "    </tr>\n",
              "    <tr>\n",
              "      <th>3</th>\n",
              "      <td>SO-20335</td>\n",
              "      <td>Standard Class</td>\n",
              "    </tr>\n",
              "    <tr>\n",
              "      <th>4</th>\n",
              "      <td>SO-20335</td>\n",
              "      <td>Standard Class</td>\n",
              "    </tr>\n",
              "  </tbody>\n",
              "</table>\n",
              "</div>"
            ],
            "text/plain": [
              "  Customer ID       Ship Mode\n",
              "0    CG-12520    Second Class\n",
              "1    CG-12520    Second Class\n",
              "2    DV-13045    Second Class\n",
              "3    SO-20335  Standard Class\n",
              "4    SO-20335  Standard Class"
            ]
          },
          "metadata": {},
          "execution_count": 52
        }
      ]
    },
    {
      "cell_type": "markdown",
      "metadata": {
        "id": "o52Dl-4qnMpT"
      },
      "source": [
        "**Observation:** Distinct types of shipment methods which can be oredered on the basis of priority, hence Ordinal Data."
      ]
    },
    {
      "cell_type": "markdown",
      "metadata": {
        "id": "5krrJ7m7jdH-"
      },
      "source": [
        "###**Quantitative Data**\n",
        "- Discrete\n",
        "- Continuous   \n"
      ]
    },
    {
      "cell_type": "markdown",
      "metadata": {
        "id": "77zSLgRXjdH_"
      },
      "source": [
        "####**Discrete Data**"
      ]
    },
    {
      "cell_type": "code",
      "metadata": {
        "colab": {
          "base_uri": "https://localhost:8080/",
          "height": 206
        },
        "id": "TmBAR_6-jdH_",
        "outputId": "d650c2f2-556e-4829-a1d0-1a2a07b70e3c"
      },
      "source": [
        "df_new = pd.DataFrame(df[['Customer Name','Quantity']])\n",
        "df_new.sample(5)"
      ],
      "execution_count": null,
      "outputs": [
        {
          "output_type": "execute_result",
          "data": {
            "text/html": [
              "<div>\n",
              "<style scoped>\n",
              "    .dataframe tbody tr th:only-of-type {\n",
              "        vertical-align: middle;\n",
              "    }\n",
              "\n",
              "    .dataframe tbody tr th {\n",
              "        vertical-align: top;\n",
              "    }\n",
              "\n",
              "    .dataframe thead th {\n",
              "        text-align: right;\n",
              "    }\n",
              "</style>\n",
              "<table border=\"1\" class=\"dataframe\">\n",
              "  <thead>\n",
              "    <tr style=\"text-align: right;\">\n",
              "      <th></th>\n",
              "      <th>Customer Name</th>\n",
              "      <th>Quantity</th>\n",
              "    </tr>\n",
              "  </thead>\n",
              "  <tbody>\n",
              "    <tr>\n",
              "      <th>4506</th>\n",
              "      <td>Ben Ferrer</td>\n",
              "      <td>3</td>\n",
              "    </tr>\n",
              "    <tr>\n",
              "      <th>4539</th>\n",
              "      <td>Erin Smith</td>\n",
              "      <td>2</td>\n",
              "    </tr>\n",
              "    <tr>\n",
              "      <th>1121</th>\n",
              "      <td>Hunter Lopez</td>\n",
              "      <td>7</td>\n",
              "    </tr>\n",
              "    <tr>\n",
              "      <th>1676</th>\n",
              "      <td>Eric Barreto</td>\n",
              "      <td>3</td>\n",
              "    </tr>\n",
              "    <tr>\n",
              "      <th>8202</th>\n",
              "      <td>Keith Dawkins</td>\n",
              "      <td>2</td>\n",
              "    </tr>\n",
              "  </tbody>\n",
              "</table>\n",
              "</div>"
            ],
            "text/plain": [
              "      Customer Name  Quantity\n",
              "4506     Ben Ferrer         3\n",
              "4539     Erin Smith         2\n",
              "1121   Hunter Lopez         7\n",
              "1676   Eric Barreto         3\n",
              "8202  Keith Dawkins         2"
            ]
          },
          "metadata": {},
          "execution_count": 53
        }
      ]
    },
    {
      "cell_type": "markdown",
      "metadata": {
        "id": "bxDk_RRdni9b"
      },
      "source": [
        "**Observation:** Distinct numerical values of Quantity such as *2*, *5*, etc. in a finite range, hence Discrete Data."
      ]
    },
    {
      "cell_type": "markdown",
      "metadata": {
        "id": "atYlvVymjdIB"
      },
      "source": [
        "####**Continuous Data**"
      ]
    },
    {
      "cell_type": "code",
      "metadata": {
        "colab": {
          "base_uri": "https://localhost:8080/",
          "height": 206
        },
        "id": "MRwgXwPBjdIC",
        "outputId": "d53fd0e5-6a9c-4be2-a567-4d660fb7068b"
      },
      "source": [
        "df_new = pd.DataFrame(df[['Customer Name','Sales']])\n",
        "df_new.sample(5)"
      ],
      "execution_count": null,
      "outputs": [
        {
          "output_type": "execute_result",
          "data": {
            "text/html": [
              "<div>\n",
              "<style scoped>\n",
              "    .dataframe tbody tr th:only-of-type {\n",
              "        vertical-align: middle;\n",
              "    }\n",
              "\n",
              "    .dataframe tbody tr th {\n",
              "        vertical-align: top;\n",
              "    }\n",
              "\n",
              "    .dataframe thead th {\n",
              "        text-align: right;\n",
              "    }\n",
              "</style>\n",
              "<table border=\"1\" class=\"dataframe\">\n",
              "  <thead>\n",
              "    <tr style=\"text-align: right;\">\n",
              "      <th></th>\n",
              "      <th>Customer Name</th>\n",
              "      <th>Sales</th>\n",
              "    </tr>\n",
              "  </thead>\n",
              "  <tbody>\n",
              "    <tr>\n",
              "      <th>6611</th>\n",
              "      <td>Juliana Krohn</td>\n",
              "      <td>191.960</td>\n",
              "    </tr>\n",
              "    <tr>\n",
              "      <th>6167</th>\n",
              "      <td>Erica Smith</td>\n",
              "      <td>117.456</td>\n",
              "    </tr>\n",
              "    <tr>\n",
              "      <th>1076</th>\n",
              "      <td>Chad Cunningham</td>\n",
              "      <td>40.880</td>\n",
              "    </tr>\n",
              "    <tr>\n",
              "      <th>8555</th>\n",
              "      <td>Debra Catini</td>\n",
              "      <td>447.944</td>\n",
              "    </tr>\n",
              "    <tr>\n",
              "      <th>3536</th>\n",
              "      <td>Fred McMath</td>\n",
              "      <td>40.740</td>\n",
              "    </tr>\n",
              "  </tbody>\n",
              "</table>\n",
              "</div>"
            ],
            "text/plain": [
              "        Customer Name    Sales\n",
              "6611    Juliana Krohn  191.960\n",
              "6167      Erica Smith  117.456\n",
              "1076  Chad Cunningham   40.880\n",
              "8555     Debra Catini  447.944\n",
              "3536      Fred McMath   40.740"
            ]
          },
          "metadata": {},
          "execution_count": 54
        }
      ]
    },
    {
      "cell_type": "markdown",
      "metadata": {
        "id": "_2nOSzb4n-CA"
      },
      "source": [
        "**Observation:** Any real value for Sales, hence Continuous Data."
      ]
    },
    {
      "cell_type": "code",
      "metadata": {
        "colab": {
          "base_uri": "https://localhost:8080/",
          "height": 542
        },
        "id": "_F_ufdW0tfAE",
        "outputId": "66cb7d35-253e-4495-fb0c-5005328cca81"
      },
      "source": [
        "df.head()"
      ],
      "execution_count": null,
      "outputs": [
        {
          "output_type": "execute_result",
          "data": {
            "text/html": [
              "<div>\n",
              "<style scoped>\n",
              "    .dataframe tbody tr th:only-of-type {\n",
              "        vertical-align: middle;\n",
              "    }\n",
              "\n",
              "    .dataframe tbody tr th {\n",
              "        vertical-align: top;\n",
              "    }\n",
              "\n",
              "    .dataframe thead th {\n",
              "        text-align: right;\n",
              "    }\n",
              "</style>\n",
              "<table border=\"1\" class=\"dataframe\">\n",
              "  <thead>\n",
              "    <tr style=\"text-align: right;\">\n",
              "      <th></th>\n",
              "      <th>Row ID</th>\n",
              "      <th>Order ID</th>\n",
              "      <th>Order Date</th>\n",
              "      <th>Ship Date</th>\n",
              "      <th>Ship Mode</th>\n",
              "      <th>Customer ID</th>\n",
              "      <th>Customer Name</th>\n",
              "      <th>Segment</th>\n",
              "      <th>Country</th>\n",
              "      <th>City</th>\n",
              "      <th>State</th>\n",
              "      <th>Postal Code</th>\n",
              "      <th>Region</th>\n",
              "      <th>Product ID</th>\n",
              "      <th>Category</th>\n",
              "      <th>Sub-Category</th>\n",
              "      <th>Product Name</th>\n",
              "      <th>Sales</th>\n",
              "      <th>Quantity</th>\n",
              "      <th>Discount</th>\n",
              "      <th>Profit</th>\n",
              "    </tr>\n",
              "  </thead>\n",
              "  <tbody>\n",
              "    <tr>\n",
              "      <th>0</th>\n",
              "      <td>1</td>\n",
              "      <td>CA-2016-152156</td>\n",
              "      <td>2016-11-08</td>\n",
              "      <td>2016-11-11</td>\n",
              "      <td>Second Class</td>\n",
              "      <td>CG-12520</td>\n",
              "      <td>Claire Gute</td>\n",
              "      <td>Consumer</td>\n",
              "      <td>United States</td>\n",
              "      <td>Henderson</td>\n",
              "      <td>Kentucky</td>\n",
              "      <td>42420</td>\n",
              "      <td>South</td>\n",
              "      <td>FUR-BO-10001798</td>\n",
              "      <td>Furniture</td>\n",
              "      <td>Bookcases</td>\n",
              "      <td>Bush Somerset Collection Bookcase</td>\n",
              "      <td>261.9600</td>\n",
              "      <td>2</td>\n",
              "      <td>0.00</td>\n",
              "      <td>41.9136</td>\n",
              "    </tr>\n",
              "    <tr>\n",
              "      <th>1</th>\n",
              "      <td>2</td>\n",
              "      <td>CA-2016-152156</td>\n",
              "      <td>2016-11-08</td>\n",
              "      <td>2016-11-11</td>\n",
              "      <td>Second Class</td>\n",
              "      <td>CG-12520</td>\n",
              "      <td>Claire Gute</td>\n",
              "      <td>Consumer</td>\n",
              "      <td>United States</td>\n",
              "      <td>Henderson</td>\n",
              "      <td>Kentucky</td>\n",
              "      <td>42420</td>\n",
              "      <td>South</td>\n",
              "      <td>FUR-CH-10000454</td>\n",
              "      <td>Furniture</td>\n",
              "      <td>Chairs</td>\n",
              "      <td>Hon Deluxe Fabric Upholstered Stacking Chairs,...</td>\n",
              "      <td>731.9400</td>\n",
              "      <td>3</td>\n",
              "      <td>0.00</td>\n",
              "      <td>219.5820</td>\n",
              "    </tr>\n",
              "    <tr>\n",
              "      <th>2</th>\n",
              "      <td>3</td>\n",
              "      <td>CA-2016-138688</td>\n",
              "      <td>2016-06-12</td>\n",
              "      <td>2016-06-16</td>\n",
              "      <td>Second Class</td>\n",
              "      <td>DV-13045</td>\n",
              "      <td>Darrin Van Huff</td>\n",
              "      <td>Corporate</td>\n",
              "      <td>United States</td>\n",
              "      <td>Los Angeles</td>\n",
              "      <td>California</td>\n",
              "      <td>90036</td>\n",
              "      <td>West</td>\n",
              "      <td>OFF-LA-10000240</td>\n",
              "      <td>Office Supplies</td>\n",
              "      <td>Labels</td>\n",
              "      <td>Self-Adhesive Address Labels for Typewriters b...</td>\n",
              "      <td>14.6200</td>\n",
              "      <td>2</td>\n",
              "      <td>0.00</td>\n",
              "      <td>6.8714</td>\n",
              "    </tr>\n",
              "    <tr>\n",
              "      <th>3</th>\n",
              "      <td>4</td>\n",
              "      <td>US-2015-108966</td>\n",
              "      <td>2015-10-11</td>\n",
              "      <td>2015-10-18</td>\n",
              "      <td>Standard Class</td>\n",
              "      <td>SO-20335</td>\n",
              "      <td>Sean O'Donnell</td>\n",
              "      <td>Consumer</td>\n",
              "      <td>United States</td>\n",
              "      <td>Fort Lauderdale</td>\n",
              "      <td>Florida</td>\n",
              "      <td>33311</td>\n",
              "      <td>South</td>\n",
              "      <td>FUR-TA-10000577</td>\n",
              "      <td>Furniture</td>\n",
              "      <td>Tables</td>\n",
              "      <td>Bretford CR4500 Series Slim Rectangular Table</td>\n",
              "      <td>957.5775</td>\n",
              "      <td>5</td>\n",
              "      <td>0.45</td>\n",
              "      <td>-383.0310</td>\n",
              "    </tr>\n",
              "    <tr>\n",
              "      <th>4</th>\n",
              "      <td>5</td>\n",
              "      <td>US-2015-108966</td>\n",
              "      <td>2015-10-11</td>\n",
              "      <td>2015-10-18</td>\n",
              "      <td>Standard Class</td>\n",
              "      <td>SO-20335</td>\n",
              "      <td>Sean O'Donnell</td>\n",
              "      <td>Consumer</td>\n",
              "      <td>United States</td>\n",
              "      <td>Fort Lauderdale</td>\n",
              "      <td>Florida</td>\n",
              "      <td>33311</td>\n",
              "      <td>South</td>\n",
              "      <td>OFF-ST-10000760</td>\n",
              "      <td>Office Supplies</td>\n",
              "      <td>Storage</td>\n",
              "      <td>Eldon Fold 'N Roll Cart System</td>\n",
              "      <td>22.3680</td>\n",
              "      <td>2</td>\n",
              "      <td>0.20</td>\n",
              "      <td>2.5164</td>\n",
              "    </tr>\n",
              "  </tbody>\n",
              "</table>\n",
              "</div>"
            ],
            "text/plain": [
              "   Row ID        Order ID Order Date  ... Quantity Discount    Profit\n",
              "0       1  CA-2016-152156 2016-11-08  ...        2     0.00   41.9136\n",
              "1       2  CA-2016-152156 2016-11-08  ...        3     0.00  219.5820\n",
              "2       3  CA-2016-138688 2016-06-12  ...        2     0.00    6.8714\n",
              "3       4  US-2015-108966 2015-10-11  ...        5     0.45 -383.0310\n",
              "4       5  US-2015-108966 2015-10-11  ...        2     0.20    2.5164\n",
              "\n",
              "[5 rows x 21 columns]"
            ]
          },
          "metadata": {},
          "execution_count": 29
        }
      ]
    },
    {
      "cell_type": "code",
      "metadata": {
        "colab": {
          "base_uri": "https://localhost:8080/"
        },
        "id": "EZzCNjbbtPNA",
        "outputId": "c8097859-5dbf-410c-e773-305868ebcdb7"
      },
      "source": [
        "# How can i get the unique values from column - Shipping\n",
        "# \n",
        "df['Ship Mode'].unique()"
      ],
      "execution_count": null,
      "outputs": [
        {
          "output_type": "execute_result",
          "data": {
            "text/plain": [
              "array(['Second Class', 'Standard Class', 'First Class', 'Same Day'],\n",
              "      dtype=object)"
            ]
          },
          "metadata": {},
          "execution_count": 32
        }
      ]
    },
    {
      "cell_type": "code",
      "metadata": {
        "colab": {
          "base_uri": "https://localhost:8080/"
        },
        "id": "Bn-6QkKKuABK",
        "outputId": "8915ca25-b806-4ee6-a2df-efdd61e648d7"
      },
      "source": [
        "set(df[\"Ship Mode\"])"
      ],
      "execution_count": null,
      "outputs": [
        {
          "output_type": "execute_result",
          "data": {
            "text/plain": [
              "{'First Class', 'Same Day', 'Second Class', 'Standard Class'}"
            ]
          },
          "metadata": {},
          "execution_count": 35
        }
      ]
    },
    {
      "cell_type": "markdown",
      "metadata": {
        "id": "dkzeH1wVyTLE"
      },
      "source": [
        "##**Why Learn Statistics?**\n",
        "\n",
        "- Important for [Data Science Interviews](https://www.edureka.co/blog/interview-questions/data-science-interview-questions/#statistics)\n",
        "- It's a fundamental concept\n",
        "- Your basics must be clear before going on advanced topics"
      ]
    }
  ]
}